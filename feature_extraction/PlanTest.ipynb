{
 "cells": [
  {
   "cell_type": "code",
   "execution_count": 1,
   "metadata": {
    "collapsed": true
   },
   "outputs": [],
   "source": [
    "from pymongo import MongoClient, DESCENDING\n",
    "from scipy.sparse import *\n",
    "from scipy import stats\n",
    "# from sklearn import svm\n",
    "# from sets import Set\n",
    "import numpy as np\n",
    "import json, sys, os, time, re, datetime, itertools, pickle\n",
    "\n",
    "def logTime():\n",
    "    return str(datetime.datetime.now())"
   ]
  },
  {
   "cell_type": "code",
   "execution_count": 2,
   "metadata": {
    "collapsed": false
   },
   "outputs": [
    {
     "name": "stdout",
     "output_type": "stream",
     "text": [
      "2016-07-31 09:23:16.945441: using aws Mongo, total drug: 46206, total plan: 0, total provider: 8799098\n"
     ]
    }
   ],
   "source": [
    "local = False\n",
    "if local:\n",
    "    client = MongoClient('fc8iasm01', 27017)\n",
    "    plan_col = client.aca.plan\n",
    "    drug_col = client.aca.drug\n",
    "else:\n",
    "    client = MongoClient('ec2-52-53-173-200.us-west-1.compute.amazonaws.com', 27017)\n",
    "    plan_col = client.plans.plans\n",
    "    drug_col = client.formularies.drugs\n",
    "    prov_col = client.providers.providers\n",
    "    faci_col = client.providers.facilities\n",
    "\n",
    "all_plan = plan_col.distinct('plan_id')\n",
    "all_drug = drug_col.distinct('rxnorm_id')\n",
    "\n",
    "print '%s: using %s Mongo, total drug: %d, total plan: %d, total provider: %d' %(\n",
    "    logTime(), 'local' if local else 'aws', len(all_drug), len(all_plan), prov_col.count())\n",
    "# client.formularies.scollection_names()\n",
    "# client.providers.collection_names()"
   ]
  },
  {
   "cell_type": "code",
   "execution_count": 4,
   "metadata": {
    "collapsed": true
   },
   "outputs": [],
   "source": [
    "all_plan = plan_col.distinct('plan_id')"
   ]
  },
  {
   "cell_type": "code",
   "execution_count": 8,
   "metadata": {
    "collapsed": false
   },
   "outputs": [
    {
     "data": {
      "text/plain": [
       "34"
      ]
     },
     "execution_count": 8,
     "metadata": {},
     "output_type": "execute_result"
    }
   ],
   "source": [
    "ak_plan = [i for i in all_plan if 'AK' in i]\n",
    "len(ak_plan)"
   ]
  },
  {
   "cell_type": "code",
   "execution_count": 9,
   "metadata": {
    "collapsed": false,
    "scrolled": true
   },
   "outputs": [
    {
     "name": "stdout",
     "output_type": "stream",
     "text": [
      "{u'marketing_name': u'Blue Cross Blue Shield Plus 1500, a Multi-State Plan', u'network': [{u'network_tier': u'HERITAGE-PLUS'}], u'formulary': [{u'drug_tier': u'GENERIC', u'mail_order': True, u'cost_sharing': [{u'copay_amount': 10.0, u'pharmacy_type': u'1-MONTH-IN-RETAIL', u'copay_opt': u'NO-CHARGE', u'coinsurance_rate': 0.0, u'coinsurance_opt': u'NO-CHARGE'}, {u'copay_amount': 30.0, u'pharmacy_type': u'3-MONTH-IN-MAIL', u'copay_opt': u'NO-CHARGE', u'coinsurance_rate': 0.0, u'coinsurance_opt': u'NO-CHARGE'}]}, {u'drug_tier': u'PREFERRED-BRAND', u'mail_order': True, u'cost_sharing': [{u'copay_amount': 40.0, u'pharmacy_type': u'1-MONTH-IN-RETAIL', u'copay_opt': u'NO-CHARGE', u'coinsurance_rate': 0.0, u'coinsurance_opt': u'NO-CHARGE'}, {u'copay_amount': 120.0, u'pharmacy_type': u'3-MONTH-IN-MAIL', u'copay_opt': u'NO-CHARGE', u'coinsurance_rate': 0.0, u'coinsurance_opt': u'NO-CHARGE'}]}, {u'drug_tier': u'NONPREFERRED-BRAND', u'mail_order': True, u'cost_sharing': [{u'copay_amount': 0.0, u'pharmacy_type': u'1-MONTH-IN-RETAIL', u'copay_opt': u'NO-CHARGE', u'coinsurance_rate': 0.5, u'coinsurance_opt': u'NO-CHARGE'}, {u'copay_amount': 0.0, u'pharmacy_type': u'3-MONTH-IN-MAIL', u'copay_opt': u'NO-CHARGE', u'coinsurance_rate': 0.5, u'coinsurance_opt': u'NO-CHARGE'}]}, {u'drug_tier': u'SPECIALTY', u'mail_order': False, u'cost_sharing': [{u'copay_amount': 0.0, u'pharmacy_type': u'1-MONTH-IN-RETAIL', u'copay_opt': u'NO-CHARGE', u'coinsurance_rate': 0.2, u'coinsurance_opt': u'AFTER-DEDUCTIBLE'}]}, {u'drug_tier': u'PREVENTIVE-ACA', u'mail_order': False, u'cost_sharing': [{u'copay_amount': 0.0, u'pharmacy_type': u'1-MONTH-IN-RETAIL', u'copay_opt': u'NO-CHARGE', u'coinsurance_rate': 0.0, u'coinsurance_opt': u'NO-CHARGE'}]}], u'plan_id_type': u'HIOS-PLAN-ID', u'last_updated_on': u'2016-06-13', u'summary_url': u'https://www.premera.com/documents/028230_2016.pdf', u'formulary_url': u'http://client.formularynavigator.com/Search.aspx?siteCode=7918349883', u'benefits': [{u'telemedicine': True}], u'plan_contact': u'JIM.TEDFORD@PREMERA.COM', u'plan_id': u'38344AK0620003', u'_id': ObjectId('577c268286395f67704fe39f')} \n",
      "\n",
      "{u'marketing_name': u'Blue Cross Blue Shield Plus 2000, a Multi-State Plan', u'network': [{u'network_tier': u'HERITAGE-PLUS'}], u'formulary': [{u'drug_tier': u'GENERIC', u'mail_order': True, u'cost_sharing': [{u'copay_amount': 25.0, u'pharmacy_type': u'1-MONTH-IN-RETAIL', u'copay_opt': u'NO-CHARGE', u'coinsurance_rate': 0.0, u'coinsurance_opt': u'NO-CHARGE'}, {u'copay_amount': 75.0, u'pharmacy_type': u'3-MONTH-IN-MAIL', u'copay_opt': u'NO-CHARGE', u'coinsurance_rate': 0.0, u'coinsurance_opt': u'NO-CHARGE'}]}, {u'drug_tier': u'PREFERRED-BRAND', u'mail_order': True, u'cost_sharing': [{u'copay_amount': 55.0, u'pharmacy_type': u'1-MONTH-IN-RETAIL', u'copay_opt': u'NO-CHARGE', u'coinsurance_rate': 0.0, u'coinsurance_opt': u'NO-CHARGE'}, {u'copay_amount': 165.0, u'pharmacy_type': u'3-MONTH-IN-MAIL', u'copay_opt': u'NO-CHARGE', u'coinsurance_rate': 0.0, u'coinsurance_opt': u'NO-CHARGE'}]}, {u'drug_tier': u'NONPREFERRED-BRAND', u'mail_order': True, u'cost_sharing': [{u'copay_amount': 0.0, u'pharmacy_type': u'1-MONTH-IN-RETAIL', u'copay_opt': u'NO-CHARGE', u'coinsurance_rate': 0.5, u'coinsurance_opt': u'AFTER-DEDUCTIBLE'}, {u'copay_amount': 0.0, u'pharmacy_type': u'3-MONTH-IN-MAIL', u'copay_opt': u'NO-CHARGE', u'coinsurance_rate': 0.5, u'coinsurance_opt': u'AFTER-DEDUCTIBLE'}]}, {u'drug_tier': u'SPECIALTY', u'mail_order': False, u'cost_sharing': [{u'copay_amount': 0.0, u'pharmacy_type': u'1-MONTH-IN-RETAIL', u'copay_opt': u'NO-CHARGE', u'coinsurance_rate': 0.3, u'coinsurance_opt': u'AFTER-DEDUCTIBLE'}]}, {u'drug_tier': u'PREVENTIVE-ACA', u'mail_order': False, u'cost_sharing': [{u'copay_amount': 0.0, u'pharmacy_type': u'1-MONTH-IN-RETAIL', u'copay_opt': u'NO-CHARGE', u'coinsurance_rate': 0.0, u'coinsurance_opt': u'NO-CHARGE'}]}], u'plan_id_type': u'HIOS-PLAN-ID', u'last_updated_on': u'2016-06-13', u'summary_url': u'https://www.premera.com/documents/028235_2016.pdf', u'formulary_url': u'http://client.formularynavigator.com/Search.aspx?siteCode=7918349883', u'benefits': [{u'telemedicine': True}], u'plan_contact': u'JIM.TEDFORD@PREMERA.COM', u'plan_id': u'38344AK0620004', u'_id': ObjectId('577c268286395f67704fe3a0')} \n",
      "\n",
      "{u'marketing_name': u'Blue Cross Blue Shield Plus 3000, a Multi-State Plan', u'network': [{u'network_tier': u'HERITAGE-PLUS'}], u'formulary': [{u'drug_tier': u'GENERIC', u'mail_order': True, u'cost_sharing': [{u'copay_amount': 20.0, u'pharmacy_type': u'1-MONTH-IN-RETAIL', u'copay_opt': u'NO-CHARGE', u'coinsurance_rate': 0.0, u'coinsurance_opt': u'NO-CHARGE'}, {u'copay_amount': 60.0, u'pharmacy_type': u'3-MONTH-IN-MAIL', u'copay_opt': u'NO-CHARGE', u'coinsurance_rate': 0.0, u'coinsurance_opt': u'NO-CHARGE'}]}, {u'drug_tier': u'PREFERRED-BRAND', u'mail_order': True, u'cost_sharing': [{u'copay_amount': 55.0, u'pharmacy_type': u'1-MONTH-IN-RETAIL', u'copay_opt': u'NO-CHARGE', u'coinsurance_rate': 0.0, u'coinsurance_opt': u'NO-CHARGE'}, {u'copay_amount': 165.0, u'pharmacy_type': u'3-MONTH-IN-MAIL', u'copay_opt': u'NO-CHARGE', u'coinsurance_rate': 0.0, u'coinsurance_opt': u'NO-CHARGE'}]}, {u'drug_tier': u'NONPREFERRED-BRAND', u'mail_order': True, u'cost_sharing': [{u'copay_amount': 0.0, u'pharmacy_type': u'1-MONTH-IN-RETAIL', u'copay_opt': u'NO-CHARGE', u'coinsurance_rate': 0.5, u'coinsurance_opt': u'AFTER-DEDUCTIBLE'}, {u'copay_amount': 0.0, u'pharmacy_type': u'3-MONTH-IN-MAIL', u'copay_opt': u'NO-CHARGE', u'coinsurance_rate': 0.5, u'coinsurance_opt': u'AFTER-DEDUCTIBLE'}]}, {u'drug_tier': u'SPECIALTY', u'mail_order': False, u'cost_sharing': [{u'copay_amount': 0.0, u'pharmacy_type': u'1-MONTH-IN-RETAIL', u'copay_opt': u'NO-CHARGE', u'coinsurance_rate': 0.2, u'coinsurance_opt': u'AFTER-DEDUCTIBLE'}]}, {u'drug_tier': u'PREVENTIVE-ACA', u'mail_order': False, u'cost_sharing': [{u'copay_amount': 0.0, u'pharmacy_type': u'1-MONTH-IN-RETAIL', u'copay_opt': u'NO-CHARGE', u'coinsurance_rate': 0.0, u'coinsurance_opt': u'NO-CHARGE'}]}], u'plan_id_type': u'HIOS-PLAN-ID', u'last_updated_on': u'2016-06-13', u'summary_url': u'https://www.premera.com/documents/028245_2016.pdf', u'formulary_url': u'http://client.formularynavigator.com/Search.aspx?siteCode=7918349883', u'benefits': [{u'telemedicine': True}], u'plan_contact': u'JIM.TEDFORD@PREMERA.COM', u'plan_id': u'38344AK0620006', u'_id': ObjectId('577c268286395f67704fe3a1')} \n",
      "\n",
      "{u'marketing_name': u'Blue Cross Blue Shield Plus 6350, a Multi-State Plan', u'network': [{u'network_tier': u'HERITAGE-PLUS'}], u'formulary': [{u'drug_tier': u'FORMULARY-DRUGS', u'mail_order': True, u'cost_sharing': [{u'copay_amount': 0.0, u'pharmacy_type': u'1-MONTH-IN-RETAIL', u'copay_opt': u'NO-CHARGE', u'coinsurance_rate': 0.2, u'coinsurance_opt': u'AFTER-DEDUCTIBLE'}, {u'copay_amount': 0.0, u'pharmacy_type': u'3-MONTH-IN-MAIL', u'copay_opt': u'NO-CHARGE', u'coinsurance_rate': 0.2, u'coinsurance_opt': u'AFTER-DEDUCTIBLE'}]}, {u'drug_tier': u'FORMULARY-DRUGS', u'mail_order': True, u'cost_sharing': [{u'copay_amount': 0.0, u'pharmacy_type': u'1-MONTH-IN-RETAIL', u'copay_opt': u'NO-CHARGE', u'coinsurance_rate': 0.2, u'coinsurance_opt': u'AFTER-DEDUCTIBLE'}, {u'copay_amount': 0.0, u'pharmacy_type': u'3-MONTH-IN-MAIL', u'copay_opt': u'NO-CHARGE', u'coinsurance_rate': 0.2, u'coinsurance_opt': u'AFTER-DEDUCTIBLE'}]}, {u'drug_tier': u'FORMULARY-DRUGS', u'mail_order': True, u'cost_sharing': [{u'copay_amount': 0.0, u'pharmacy_type': u'1-MONTH-IN-RETAIL', u'copay_opt': u'NO-CHARGE', u'coinsurance_rate': 0.2, u'coinsurance_opt': u'AFTER-DEDUCTIBLE'}, {u'copay_amount': 0.0, u'pharmacy_type': u'3-MONTH-IN-MAIL', u'copay_opt': u'NO-CHARGE', u'coinsurance_rate': 0.2, u'coinsurance_opt': u'AFTER-DEDUCTIBLE'}]}, {u'drug_tier': u'SPECIALTY', u'mail_order': False, u'cost_sharing': [{u'copay_amount': 0.0, u'pharmacy_type': u'1-MONTH-IN-RETAIL', u'copay_opt': u'NO-CHARGE', u'coinsurance_rate': 0.2, u'coinsurance_opt': u'AFTER-DEDUCTIBLE'}]}, {u'drug_tier': u'PREVENTIVE-ACA', u'mail_order': False, u'cost_sharing': [{u'copay_amount': 0.0, u'pharmacy_type': u'1-MONTH-IN-RETAIL', u'copay_opt': u'NO-CHARGE', u'coinsurance_rate': 0.0, u'coinsurance_opt': u'NO-CHARGE'}]}], u'plan_id_type': u'HIOS-PLAN-ID', u'last_updated_on': u'2016-06-13', u'summary_url': u'https://www.premera.com/documents/028252_2016.pdf', u'formulary_url': u'http://client.formularynavigator.com/Search.aspx?siteCode=7425239228', u'benefits': [{u'telemedicine': True}], u'plan_contact': u'JIM.TEDFORD@PREMERA.COM', u'plan_id': u'38344AK0620008', u'_id': ObjectId('577c268286395f67704fe3a2')} \n",
      "\n",
      "{u'marketing_name': u'Blue Cross Blue Shield Plus 5250 HSA High, a Multi-State Plan', u'network': [{u'network_tier': u'HERITAGE-PLUS'}], u'formulary': [{u'drug_tier': u'FORMULARY-DRUGS', u'mail_order': True, u'cost_sharing': [{u'copay_amount': 0.0, u'pharmacy_type': u'1-MONTH-IN-RETAIL', u'copay_opt': u'NO-CHARGE', u'coinsurance_rate': 0.2, u'coinsurance_opt': u'AFTER-DEDUCTIBLE'}, {u'copay_amount': 0.0, u'pharmacy_type': u'3-MONTH-IN-MAIL', u'copay_opt': u'NO-CHARGE', u'coinsurance_rate': 0.2, u'coinsurance_opt': u'AFTER-DEDUCTIBLE'}]}, {u'drug_tier': u'FORMULARY-DRUGS', u'mail_order': True, u'cost_sharing': [{u'copay_amount': 0.0, u'pharmacy_type': u'1-MONTH-IN-RETAIL', u'copay_opt': u'NO-CHARGE', u'coinsurance_rate': 0.2, u'coinsurance_opt': u'AFTER-DEDUCTIBLE'}, {u'copay_amount': 0.0, u'pharmacy_type': u'3-MONTH-IN-MAIL', u'copay_opt': u'NO-CHARGE', u'coinsurance_rate': 0.2, u'coinsurance_opt': u'AFTER-DEDUCTIBLE'}]}, {u'drug_tier': u'FORMULARY-DRUGS', u'mail_order': True, u'cost_sharing': [{u'copay_amount': 0.0, u'pharmacy_type': u'1-MONTH-IN-RETAIL', u'copay_opt': u'NO-CHARGE', u'coinsurance_rate': 0.2, u'coinsurance_opt': u'AFTER-DEDUCTIBLE'}, {u'copay_amount': 0.0, u'pharmacy_type': u'3-MONTH-IN-MAIL', u'copay_opt': u'NO-CHARGE', u'coinsurance_rate': 0.2, u'coinsurance_opt': u'AFTER-DEDUCTIBLE'}]}, {u'drug_tier': u'SPECIALTY', u'mail_order': False, u'cost_sharing': [{u'copay_amount': 0.0, u'pharmacy_type': u'1-MONTH-IN-RETAIL', u'copay_opt': u'NO-CHARGE', u'coinsurance_rate': 0.2, u'coinsurance_opt': u'AFTER-DEDUCTIBLE'}]}, {u'drug_tier': u'PREVENTIVE-ACA', u'mail_order': False, u'cost_sharing': [{u'copay_amount': 0.0, u'pharmacy_type': u'1-MONTH-IN-RETAIL', u'copay_opt': u'NO-CHARGE', u'coinsurance_rate': 0.0, u'coinsurance_opt': u'NO-CHARGE'}]}], u'plan_id_type': u'HIOS-PLAN-ID', u'last_updated_on': u'2016-06-13', u'summary_url': u'https://www.premera.com/documents/028246_2016.pdf', u'formulary_url': u'http://client.formularynavigator.com/Search.aspx?siteCode=7425239228', u'benefits': [{u'telemedicine': True}], u'plan_contact': u'JIM.TEDFORD@PREMERA.COM', u'plan_id': u'38344AK0570001', u'_id': ObjectId('577c268286395f67704fe3a3')} \n",
      "\n",
      "{u'marketing_name': u'Blue Cross Blue Shield Plus 3000 HSA High, a Multi-State Plan', u'network': [{u'network_tier': u'HERITAGE-PLUS'}], u'formulary': [{u'drug_tier': u'FORMULARY-DRUGS', u'mail_order': True, u'cost_sharing': [{u'copay_amount': 0.0, u'pharmacy_type': u'1-MONTH-IN-RETAIL', u'copay_opt': u'NO-CHARGE', u'coinsurance_rate': 0.2, u'coinsurance_opt': u'AFTER-DEDUCTIBLE'}, {u'copay_amount': 0.0, u'pharmacy_type': u'3-MONTH-IN-MAIL', u'copay_opt': u'NO-CHARGE', u'coinsurance_rate': 0.2, u'coinsurance_opt': u'AFTER-DEDUCTIBLE'}]}, {u'drug_tier': u'FORMULARY-DRUGS', u'mail_order': True, u'cost_sharing': [{u'copay_amount': 0.0, u'pharmacy_type': u'1-MONTH-IN-RETAIL', u'copay_opt': u'NO-CHARGE', u'coinsurance_rate': 0.2, u'coinsurance_opt': u'AFTER-DEDUCTIBLE'}, {u'copay_amount': 0.0, u'pharmacy_type': u'3-MONTH-IN-MAIL', u'copay_opt': u'NO-CHARGE', u'coinsurance_rate': 0.2, u'coinsurance_opt': u'AFTER-DEDUCTIBLE'}]}, {u'drug_tier': u'FORMULARY-DRUGS', u'mail_order': True, u'cost_sharing': [{u'copay_amount': 0.0, u'pharmacy_type': u'1-MONTH-IN-RETAIL', u'copay_opt': u'NO-CHARGE', u'coinsurance_rate': 0.2, u'coinsurance_opt': u'AFTER-DEDUCTIBLE'}, {u'copay_amount': 0.0, u'pharmacy_type': u'3-MONTH-IN-MAIL', u'copay_opt': u'NO-CHARGE', u'coinsurance_rate': 0.2, u'coinsurance_opt': u'AFTER-DEDUCTIBLE'}]}, {u'drug_tier': u'SPECIALTY', u'mail_order': False, u'cost_sharing': [{u'copay_amount': 0.0, u'pharmacy_type': u'1-MONTH-IN-RETAIL', u'copay_opt': u'NO-CHARGE', u'coinsurance_rate': 0.2, u'coinsurance_opt': u'AFTER-DEDUCTIBLE'}]}, {u'drug_tier': u'PREVENTIVE-ACA', u'mail_order': False, u'cost_sharing': [{u'copay_amount': 0.0, u'pharmacy_type': u'1-MONTH-IN-RETAIL', u'copay_opt': u'NO-CHARGE', u'coinsurance_rate': 0.0, u'coinsurance_opt': u'NO-CHARGE'}]}], u'plan_id_type': u'HIOS-PLAN-ID', u'last_updated_on': u'2016-06-13', u'summary_url': u'https://www.premera.com/documents/028239_2016.pdf', u'formulary_url': u'http://client.formularynavigator.com/Search.aspx?siteCode=7425239228', u'benefits': [{u'telemedicine': True}], u'plan_contact': u'JIM.TEDFORD@PREMERA.COM', u'plan_id': u'38344AK0570002', u'_id': ObjectId('577c268286395f67704fe3a4')} \n",
      "\n",
      "{u'marketing_name': u'Blue Cross Blue Shield Plus 1000, a Multi-State Plan', u'network': [{u'network_tier': u'HERITAGE-PLUS'}], u'formulary': [{u'drug_tier': u'GENERIC', u'mail_order': True, u'cost_sharing': [{u'copay_amount': 10.0, u'pharmacy_type': u'1-MONTH-IN-RETAIL', u'copay_opt': u'NO-CHARGE', u'coinsurance_rate': 0.0, u'coinsurance_opt': u'NO-CHARGE'}, {u'copay_amount': 30.0, u'pharmacy_type': u'3-MONTH-IN-MAIL', u'copay_opt': u'NO-CHARGE', u'coinsurance_rate': 0.0, u'coinsurance_opt': u'NO-CHARGE'}]}, {u'drug_tier': u'PREFERRED-BRAND', u'mail_order': True, u'cost_sharing': [{u'copay_amount': 40.0, u'pharmacy_type': u'1-MONTH-IN-RETAIL', u'copay_opt': u'NO-CHARGE', u'coinsurance_rate': 0.0, u'coinsurance_opt': u'NO-CHARGE'}, {u'copay_amount': 120.0, u'pharmacy_type': u'3-MONTH-IN-MAIL', u'copay_opt': u'NO-CHARGE', u'coinsurance_rate': 0.0, u'coinsurance_opt': u'NO-CHARGE'}]}, {u'drug_tier': u'NONPREFERRED-BRAND', u'mail_order': True, u'cost_sharing': [{u'copay_amount': 0.0, u'pharmacy_type': u'1-MONTH-IN-RETAIL', u'copay_opt': u'NO-CHARGE', u'coinsurance_rate': 0.5, u'coinsurance_opt': u'NO-CHARGE'}, {u'copay_amount': 0.0, u'pharmacy_type': u'3-MONTH-IN-MAIL', u'copay_opt': u'NO-CHARGE', u'coinsurance_rate': 0.5, u'coinsurance_opt': u'NO-CHARGE'}]}, {u'drug_tier': u'SPECIALTY', u'mail_order': False, u'cost_sharing': [{u'copay_amount': 0.0, u'pharmacy_type': u'1-MONTH-IN-RETAIL', u'copay_opt': u'NO-CHARGE', u'coinsurance_rate': 0.2, u'coinsurance_opt': u'NO-CHARGE'}]}, {u'drug_tier': u'PREVENTIVE-ACA', u'mail_order': False, u'cost_sharing': [{u'copay_amount': 0.0, u'pharmacy_type': u'1-MONTH-IN-RETAIL', u'copay_opt': u'NO-CHARGE', u'coinsurance_rate': 0.0, u'coinsurance_opt': u'NO-CHARGE'}]}], u'plan_id_type': u'HIOS-PLAN-ID', u'last_updated_on': u'2016-06-13', u'summary_url': u'https://www.premera.com/documents/028492_2016.pdf', u'formulary_url': u'http://client.formularynavigator.com/Search.aspx?siteCode=7918349883', u'benefits': [{u'telemedicine': True}], u'plan_contact': u'JIM.TEDFORD@PREMERA.COM', u'plan_id': u'38344AK0980003', u'_id': ObjectId('577c268286395f67704fe3a5')} \n",
      "\n",
      "{u'marketing_name': u'Blue Cross Blue Shield Plus 2000, a Multi-State Plan', u'network': [{u'network_tier': u'HERITAGE-PLUS'}], u'formulary': [{u'drug_tier': u'GENERIC', u'mail_order': True, u'cost_sharing': [{u'copay_amount': 15.0, u'pharmacy_type': u'1-MONTH-IN-RETAIL', u'copay_opt': u'NO-CHARGE', u'coinsurance_rate': 0.0, u'coinsurance_opt': u'NO-CHARGE'}, {u'copay_amount': 45.0, u'pharmacy_type': u'3-MONTH-IN-MAIL', u'copay_opt': u'NO-CHARGE', u'coinsurance_rate': 0.0, u'coinsurance_opt': u'NO-CHARGE'}]}, {u'drug_tier': u'PREFERRED-BRAND', u'mail_order': True, u'cost_sharing': [{u'copay_amount': 50.0, u'pharmacy_type': u'1-MONTH-IN-RETAIL', u'copay_opt': u'NO-CHARGE', u'coinsurance_rate': 0.0, u'coinsurance_opt': u'NO-CHARGE'}, {u'copay_amount': 150.0, u'pharmacy_type': u'3-MONTH-IN-MAIL', u'copay_opt': u'NO-CHARGE', u'coinsurance_rate': 0.0, u'coinsurance_opt': u'NO-CHARGE'}]}, {u'drug_tier': u'NONPREFERRED-BRAND', u'mail_order': True, u'cost_sharing': [{u'copay_amount': 150.0, u'pharmacy_type': u'1-MONTH-IN-RETAIL', u'copay_opt': u'NO-CHARGE', u'coinsurance_rate': 0.0, u'coinsurance_opt': u'NO-CHARGE'}, {u'copay_amount': 450.0, u'pharmacy_type': u'3-MONTH-IN-MAIL', u'copay_opt': u'NO-CHARGE', u'coinsurance_rate': 0.0, u'coinsurance_opt': u'NO-CHARGE'}]}, {u'drug_tier': u'SPECIALTY', u'mail_order': False, u'cost_sharing': [{u'copay_amount': 0.0, u'pharmacy_type': u'1-MONTH-IN-RETAIL', u'copay_opt': u'NO-CHARGE', u'coinsurance_rate': 0.3, u'coinsurance_opt': u'AFTER-DEDUCTIBLE'}]}, {u'drug_tier': u'PREVENTIVE-ACA', u'mail_order': False, u'cost_sharing': [{u'copay_amount': 0.0, u'pharmacy_type': u'1-MONTH-IN-RETAIL', u'copay_opt': u'NO-CHARGE', u'coinsurance_rate': 0.0, u'coinsurance_opt': u'NO-CHARGE'}]}], u'plan_id_type': u'HIOS-PLAN-ID', u'last_updated_on': u'2016-06-13', u'summary_url': u'https://www.premera.com/documents/028495_2016.pdf', u'formulary_url': u'http://client.formularynavigator.com/Search.aspx?siteCode=7918349883', u'benefits': [{u'telemedicine': True}], u'plan_contact': u'JIM.TEDFORD@PREMERA.COM', u'plan_id': u'38344AK0980006', u'_id': ObjectId('577c268286395f67704fe3a6')} \n",
      "\n",
      "{u'marketing_name': u'Blue Cross Blue Shield Plus 6350, a Multi-State Plan', u'network': [{u'network_tier': u'HERITAGE-PLUS'}], u'formulary': [{u'drug_tier': u'GENERIC', u'mail_order': True, u'cost_sharing': [{u'copay_amount': 35.0, u'pharmacy_type': u'1-MONTH-IN-RETAIL', u'copay_opt': u'NO-CHARGE', u'coinsurance_rate': 0.0, u'coinsurance_opt': u'NO-CHARGE'}, {u'copay_amount': 105.0, u'pharmacy_type': u'3-MONTH-IN-MAIL', u'copay_opt': u'NO-CHARGE', u'coinsurance_rate': 0.0, u'coinsurance_opt': u'NO-CHARGE'}]}, {u'drug_tier': u'PREFERRED-BRAND', u'mail_order': True, u'cost_sharing': [{u'copay_amount': 0.0, u'pharmacy_type': u'1-MONTH-IN-RETAIL', u'copay_opt': u'NO-CHARGE', u'coinsurance_rate': 0.5, u'coinsurance_opt': u'AFTER-DEDUCTIBLE'}, {u'copay_amount': 0.0, u'pharmacy_type': u'3-MONTH-IN-MAIL', u'copay_opt': u'NO-CHARGE', u'coinsurance_rate': 0.5, u'coinsurance_opt': u'AFTER-DEDUCTIBLE'}]}, {u'drug_tier': u'NONPREFERRED-BRAND', u'mail_order': True, u'cost_sharing': [{u'copay_amount': 0.0, u'pharmacy_type': u'1-MONTH-IN-RETAIL', u'copay_opt': u'NO-CHARGE', u'coinsurance_rate': 0.5, u'coinsurance_opt': u'AFTER-DEDUCTIBLE'}, {u'copay_amount': 0.0, u'pharmacy_type': u'3-MONTH-IN-MAIL', u'copay_opt': u'NO-CHARGE', u'coinsurance_rate': 0.5, u'coinsurance_opt': u'AFTER-DEDUCTIBLE'}]}, {u'drug_tier': u'SPECIALTY', u'mail_order': False, u'cost_sharing': [{u'copay_amount': 0.0, u'pharmacy_type': u'1-MONTH-IN-RETAIL', u'copay_opt': u'NO-CHARGE', u'coinsurance_rate': 0.5, u'coinsurance_opt': u'AFTER-DEDUCTIBLE'}]}, {u'drug_tier': u'PREVENTIVE-ACA', u'mail_order': False, u'cost_sharing': [{u'copay_amount': 0.0, u'pharmacy_type': u'1-MONTH-IN-RETAIL', u'copay_opt': u'NO-CHARGE', u'coinsurance_rate': 0.0, u'coinsurance_opt': u'NO-CHARGE'}]}], u'plan_id_type': u'HIOS-PLAN-ID', u'last_updated_on': u'2016-06-13', u'summary_url': u'https://www.premera.com/documents/028491_2016.pdf', u'formulary_url': u'http://client.formularynavigator.com/Search.aspx?siteCode=7918349883', u'benefits': [{u'telemedicine': True}], u'plan_contact': u'JIM.TEDFORD@PREMERA.COM', u'plan_id': u'38344AK0980012', u'_id': ObjectId('577c268286395f67704fe3a7')} \n",
      "\n",
      "{u'marketing_name': u'BESTDental Premium', u'network': [{u'network_tier': u'IN-NETWORK'}], u'formulary': [], u'plan_id_type': u'HIOS-PLAN-ID', u'last_updated_on': u'2016-06-06', u'summary_url': u'http://www.bestlife.com/AK/2016/AK_BESTDental_Premium_Plan.pdf', u'plan_id': u'74819AK0010007', u'plan_contact': u'ppeatross@bestlife.com', u'_id': ObjectId('577c269686395f67704fe819')} \n",
      "\n",
      "{u'marketing_name': u'BESTDental Standard - H', u'network': [{u'network_tier': u'IN-NETWORK'}], u'formulary': [], u'plan_id_type': u'HIOS-PLAN-ID', u'last_updated_on': u'2016-06-06', u'summary_url': u'http://www.bestlife.com/AK/2016/AK_BESTDental_Standard-H_Plan.pdf', u'plan_id': u'74819AK0010008', u'plan_contact': u'ppeatross@bestlife.com', u'_id': ObjectId('577c269686395f67704fe81a')} \n",
      "\n",
      "{u'marketing_name': u'BESTDental Standard - L', u'network': [{u'network_tier': u'IN-NETWORK'}], u'formulary': [], u'plan_id_type': u'HIOS-PLAN-ID', u'last_updated_on': u'2016-06-06', u'summary_url': u'http://www.bestlife.com/AK/2016/AK_BESTDental_Standard-L_Plan.pdf', u'plan_id': u'74819AK0010009', u'plan_contact': u'ppeatross@bestlife.com', u'_id': ObjectId('577c269686395f67704fe81b')} \n",
      "\n",
      "{u'marketing_name': u'BESTDental Choice - H', u'network': [{u'network_tier': u'IN-NETWORK'}], u'formulary': [], u'plan_id_type': u'HIOS-PLAN-ID', u'last_updated_on': u'2016-06-06', u'summary_url': u'http://www.bestlife.com/AK/2016/AK_BESTDental_Choice-H_Plan.pdf', u'plan_id': u'74819AK0010010', u'plan_contact': u'ppeatross@bestlife.com', u'_id': ObjectId('577c269686395f67704fe81c')} \n",
      "\n",
      "{u'marketing_name': u'BESTDental Choice - L', u'network': [{u'network_tier': u'IN-NETWORK'}], u'formulary': [], u'plan_id_type': u'HIOS-PLAN-ID', u'last_updated_on': u'2016-06-06', u'summary_url': u'http://www.bestlife.com/AK/2016/AK_BESTDental_Choice-L_Plan.pdf', u'plan_id': u'74819AK0010011', u'plan_contact': u'ppeatross@bestlife.com', u'_id': ObjectId('577c269686395f67704fe81d')} \n",
      "\n",
      "{u'marketing_name': u'BESTDental Value', u'network': [{u'network_tier': u'IN-NETWORK'}], u'formulary': [], u'plan_id_type': u'HIOS-PLAN-ID', u'last_updated_on': u'2016-06-06', u'summary_url': u'http://www.bestlife.com/AK/2016/AK_BESTDental_Value_Plan.pdf', u'plan_id': u'74819AK0010012', u'plan_contact': u'ppeatross@bestlife.com', u'_id': ObjectId('577c269686395f67704fe81e')} \n",
      "\n",
      "{u'marketing_name': u'BESTOne Advantage Gold', u'network': [{u'network_tier': u'IN-NETWORK'}], u'formulary': [], u'plan_id_type': u'HIOS-PLAN-ID', u'last_updated_on': u'2016-06-06', u'summary_url': u'http://www.bestlife.com/AK/2016/AK_BESTOne_Dental_Advantage-High_Plan.pdf', u'plan_id': u'74819AK0020003', u'plan_contact': u'ppeatross@bestlife.com', u'_id': ObjectId('577c269686395f67704fe81f')} \n",
      "\n",
      "{u'marketing_name': u'BESTOne Plus Gold', u'network': [{u'network_tier': u'IN-NETWORK'}], u'formulary': [], u'plan_id_type': u'HIOS-PLAN-ID', u'last_updated_on': u'2016-06-06', u'summary_url': u'http://www.bestlife.com/AK/2016/AK_BESTOne_Dental_Plus-High_Plan.pdf', u'plan_id': u'74819AK0020004', u'plan_contact': u'ppeatross@bestlife.com', u'_id': ObjectId('577c269686395f67704fe820')} \n",
      "\n",
      "{u'marketing_name': u'BESTOne Plus Silver', u'network': [{u'network_tier': u'IN-NETWORK'}], u'formulary': [], u'plan_id_type': u'HIOS-PLAN-ID', u'last_updated_on': u'2016-06-06', u'summary_url': u'http://www.bestlife.com/AK/2016/AK_BESTOne_Dental_Plus-Low_Plan.pdf', u'plan_id': u'74819AK0020005', u'plan_contact': u'ppeatross@bestlife.com', u'_id': ObjectId('577c269686395f67704fe821')} \n",
      "\n",
      "{u'marketing_name': u'BESTOne Basic Silver', u'network': [{u'network_tier': u'IN-NETWORK'}], u'formulary': [], u'plan_id_type': u'HIOS-PLAN-ID', u'last_updated_on': u'2016-06-06', u'summary_url': u'http://www.bestlife.com/AK/2016/AK_BESTOne_Dental_Basic-Low_Plan.pdf', u'plan_id': u'74819AK0020006', u'plan_contact': u'ppeatross@bestlife.com', u'_id': ObjectId('577c269686395f67704fe822')} \n",
      "\n",
      "{u'marketing_name': u'Be Prosperous (Providence)', u'network': [{u'network_tier': u'PREFERRED'}], u'formulary': [{u'drug_tier': u'SELECT', u'mail_order': True, u'cost_sharing': [{u'copay_amount': 90.0, u'pharmacy_type': u'3-MONTH-IN-MAIL', u'copay_opt': u'NO-CHARGE', u'coinsurance_rate': 0.0, u'coinsurance_opt': None}, {u'copay_amount': 30.0, u'pharmacy_type': u'3-MONTH-IN-RETAIL', u'copay_opt': u'BEFORE-DEDUCTIBLE', u'coinsurance_rate': 0.0, u'coinsurance_opt': None}, {u'copay_amount': 30.0, u'pharmacy_type': u'3-MONTH-OUT-RETAIL', u'copay_opt': u'BEFORE-DEDUCTIBLE', u'coinsurance_rate': 0.0, u'coinsurance_opt': None}]}, {u'drug_tier': u'PREFERRED', u'mail_order': True, u'cost_sharing': [{u'copay_amount': 0.0, u'pharmacy_type': u'3-MONTH-IN-MAIL', u'copay_opt': u'NO-CHARGE', u'coinsurance_rate': 0.0, u'coinsurance_opt': None}, {u'copay_amount': 0.0, u'pharmacy_type': u'3-MONTH-IN-RETAIL', u'copay_opt': u'NO-CHARGE', u'coinsurance_rate': 0.35, u'coinsurance_opt': None}, {u'copay_amount': 0.0, u'pharmacy_type': u'3-MONTH-OUT-RETAIL', u'copay_opt': u'NO-CHARGE', u'coinsurance_rate': 0.35, u'coinsurance_opt': None}]}, {u'drug_tier': u'BRAND', u'mail_order': True, u'cost_sharing': [{u'copay_amount': 0.0, u'pharmacy_type': u'3-MONTH-IN-MAIL', u'copay_opt': u'NO-CHARGE', u'coinsurance_rate': 0.0, u'coinsurance_opt': None}, {u'copay_amount': 0.0, u'pharmacy_type': u'3-MONTH-IN-RETAIL', u'copay_opt': u'NO-CHARGE', u'coinsurance_rate': 0.45, u'coinsurance_opt': None}, {u'copay_amount': 0.0, u'pharmacy_type': u'3-MONTH-OUT-RETAIL', u'copay_opt': u'NO-CHARGE', u'coinsurance_rate': 0.45, u'coinsurance_opt': None}]}, {u'drug_tier': u'SPECIALTY', u'mail_order': True, u'cost_sharing': [{u'copay_amount': 0.0, u'pharmacy_type': u'1-MONTH-IN-RETAIL', u'copay_opt': u'NO-CHARGE', u'coinsurance_rate': 0.45, u'coinsurance_opt': u'AFTER-DEDUCTIBLE'}]}, {u'drug_tier': u'PREVENTIVE', u'mail_order': True, u'cost_sharing': [{u'copay_amount': 0.0, u'pharmacy_type': u'3-MONTH-IN-RETAIL', u'copay_opt': u'BEFORE-DEDUCTIBLE', u'coinsurance_rate': 0.0, u'coinsurance_opt': None}]}, {u'drug_tier': u'VALUE', u'mail_order': True, u'cost_sharing': [{u'copay_amount': 18.0, u'pharmacy_type': u'3-MONTH-IN-MAIL', u'copay_opt': u'BEFORE-DEDUCTIBLE', u'coinsurance_rate': 0.0, u'coinsurance_opt': None}, {u'copay_amount': 6.0, u'pharmacy_type': u'3-MONTH-IN-RETAIL', u'copay_opt': u'BEFORE-DEDUCTIBLE', u'coinsurance_rate': 0.0, u'coinsurance_opt': None}, {u'copay_amount': 6.0, u'pharmacy_type': u'3-MONTH-OUT-RETAIL', u'copay_opt': u'BEFORE-DEDUCTIBLE', u'coinsurance_rate': 0.0, u'coinsurance_opt': None}]}, {u'drug_tier': u'MEDICAL-SERVICE-DRUGS', u'mail_order': True, u'cost_sharing': [{u'copay_amount': 0.0, u'pharmacy_type': u'3-MONTH-IN-RETAIL', u'copay_opt': u'NO-CHARGE', u'coinsurance_rate': 0.15, u'coinsurance_opt': u'AFTER-DEDUCTIBLE'}]}], u'plan_id_type': u'HIOS-PLAN-ID', u'last_updated_on': u'2016-05-04', u'summary_url': u'https://www.modahealth.com/pdfs/plans/individual/Moda_Providence_BeProsperous_2016_AK.pdf', u'plan_id': u'73836AK0750001', u'plan_contact': u'jessica.wagner@modahealth.com', u'_id': ObjectId('577c26fa86395f67705000ce'), u'marketing_url': u''} \n",
      "\n",
      "{u'marketing_name': u'Be Prosperous (Select)', u'network': [{u'network_tier': u'PREFERRED'}], u'formulary': [{u'drug_tier': u'SELECT', u'mail_order': True, u'cost_sharing': [{u'copay_amount': 90.0, u'pharmacy_type': u'3-MONTH-IN-MAIL', u'copay_opt': u'NO-CHARGE', u'coinsurance_rate': 0.0, u'coinsurance_opt': None}, {u'copay_amount': 30.0, u'pharmacy_type': u'3-MONTH-IN-RETAIL', u'copay_opt': u'BEFORE-DEDUCTIBLE', u'coinsurance_rate': 0.0, u'coinsurance_opt': None}, {u'copay_amount': 30.0, u'pharmacy_type': u'3-MONTH-OUT-RETAIL', u'copay_opt': u'BEFORE-DEDUCTIBLE', u'coinsurance_rate': 0.0, u'coinsurance_opt': None}]}, {u'drug_tier': u'PREFERRED', u'mail_order': True, u'cost_sharing': [{u'copay_amount': 0.0, u'pharmacy_type': u'3-MONTH-IN-MAIL', u'copay_opt': u'NO-CHARGE', u'coinsurance_rate': 0.0, u'coinsurance_opt': None}, {u'copay_amount': 0.0, u'pharmacy_type': u'3-MONTH-IN-RETAIL', u'copay_opt': u'NO-CHARGE', u'coinsurance_rate': 0.35, u'coinsurance_opt': None}, {u'copay_amount': 0.0, u'pharmacy_type': u'3-MONTH-OUT-RETAIL', u'copay_opt': u'NO-CHARGE', u'coinsurance_rate': 0.35, u'coinsurance_opt': None}]}, {u'drug_tier': u'BRAND', u'mail_order': True, u'cost_sharing': [{u'copay_amount': 0.0, u'pharmacy_type': u'3-MONTH-IN-MAIL', u'copay_opt': u'NO-CHARGE', u'coinsurance_rate': 0.0, u'coinsurance_opt': None}, {u'copay_amount': 0.0, u'pharmacy_type': u'3-MONTH-IN-RETAIL', u'copay_opt': u'NO-CHARGE', u'coinsurance_rate': 0.45, u'coinsurance_opt': None}, {u'copay_amount': 0.0, u'pharmacy_type': u'3-MONTH-OUT-RETAIL', u'copay_opt': u'NO-CHARGE', u'coinsurance_rate': 0.45, u'coinsurance_opt': None}]}, {u'drug_tier': u'SPECIALTY', u'mail_order': True, u'cost_sharing': [{u'copay_amount': 0.0, u'pharmacy_type': u'1-MONTH-IN-RETAIL', u'copay_opt': u'NO-CHARGE', u'coinsurance_rate': 0.45, u'coinsurance_opt': u'AFTER-DEDUCTIBLE'}]}, {u'drug_tier': u'PREVENTIVE', u'mail_order': True, u'cost_sharing': [{u'copay_amount': 0.0, u'pharmacy_type': u'3-MONTH-IN-RETAIL', u'copay_opt': u'BEFORE-DEDUCTIBLE', u'coinsurance_rate': 0.0, u'coinsurance_opt': None}]}, {u'drug_tier': u'VALUE', u'mail_order': True, u'cost_sharing': [{u'copay_amount': 18.0, u'pharmacy_type': u'3-MONTH-IN-MAIL', u'copay_opt': u'BEFORE-DEDUCTIBLE', u'coinsurance_rate': 0.0, u'coinsurance_opt': None}, {u'copay_amount': 6.0, u'pharmacy_type': u'3-MONTH-IN-RETAIL', u'copay_opt': u'BEFORE-DEDUCTIBLE', u'coinsurance_rate': 0.0, u'coinsurance_opt': None}, {u'copay_amount': 6.0, u'pharmacy_type': u'3-MONTH-OUT-RETAIL', u'copay_opt': u'BEFORE-DEDUCTIBLE', u'coinsurance_rate': 0.0, u'coinsurance_opt': None}]}, {u'drug_tier': u'MEDICAL-SERVICE-DRUGS', u'mail_order': True, u'cost_sharing': [{u'copay_amount': 0.0, u'pharmacy_type': u'3-MONTH-IN-RETAIL', u'copay_opt': u'NO-CHARGE', u'coinsurance_rate': 0.15, u'coinsurance_opt': u'AFTER-DEDUCTIBLE'}]}], u'plan_id_type': u'HIOS-PLAN-ID', u'last_updated_on': u'2016-05-04', u'summary_url': u'https://www.modahealth.com/pdfs/plans/individual/Moda_Select_BeProsperous_2016_AK.pdf', u'plan_id': u'73836AK0750002', u'plan_contact': u'jessica.wagner@modahealth.com', u'_id': ObjectId('577c26fa86395f67705000cf'), u'marketing_url': u''} \n",
      "\n",
      "{u'marketing_name': u'Be Equipped (Providence)', u'network': [{u'network_tier': u'PREFERRED'}], u'formulary': [{u'drug_tier': u'SELECT', u'mail_order': True, u'cost_sharing': [{u'copay_amount': 180.0, u'pharmacy_type': u'3-MONTH-IN-MAIL', u'copay_opt': u'NO-CHARGE', u'coinsurance_rate': 0.0, u'coinsurance_opt': None}, {u'copay_amount': 60.0, u'pharmacy_type': u'3-MONTH-IN-RETAIL', u'copay_opt': u'BEFORE-DEDUCTIBLE', u'coinsurance_rate': 0.0, u'coinsurance_opt': None}, {u'copay_amount': 60.0, u'pharmacy_type': u'3-MONTH-OUT-RETAIL', u'copay_opt': u'BEFORE-DEDUCTIBLE', u'coinsurance_rate': 0.0, u'coinsurance_opt': None}]}, {u'drug_tier': u'PREFERRED', u'mail_order': True, u'cost_sharing': [{u'copay_amount': 0.0, u'pharmacy_type': u'3-MONTH-IN-MAIL', u'copay_opt': u'NO-CHARGE', u'coinsurance_rate': 0.0, u'coinsurance_opt': None}, {u'copay_amount': 0.0, u'pharmacy_type': u'3-MONTH-IN-RETAIL', u'copay_opt': u'NO-CHARGE', u'coinsurance_rate': 0.35, u'coinsurance_opt': None}, {u'copay_amount': 0.0, u'pharmacy_type': u'3-MONTH-OUT-RETAIL', u'copay_opt': u'NO-CHARGE', u'coinsurance_rate': 0.35, u'coinsurance_opt': None}]}, {u'drug_tier': u'BRAND', u'mail_order': True, u'cost_sharing': [{u'copay_amount': 0.0, u'pharmacy_type': u'3-MONTH-IN-MAIL', u'copay_opt': u'NO-CHARGE', u'coinsurance_rate': 0.0, u'coinsurance_opt': None}, {u'copay_amount': 0.0, u'pharmacy_type': u'3-MONTH-IN-RETAIL', u'copay_opt': u'NO-CHARGE', u'coinsurance_rate': 0.45, u'coinsurance_opt': None}, {u'copay_amount': 0.0, u'pharmacy_type': u'3-MONTH-OUT-RETAIL', u'copay_opt': u'NO-CHARGE', u'coinsurance_rate': 0.45, u'coinsurance_opt': None}]}, {u'drug_tier': u'SPECIALTY', u'mail_order': True, u'cost_sharing': [{u'copay_amount': 0.0, u'pharmacy_type': u'1-MONTH-IN-RETAIL', u'copay_opt': u'NO-CHARGE', u'coinsurance_rate': 0.45, u'coinsurance_opt': u'AFTER-DEDUCTIBLE'}]}, {u'drug_tier': u'PREVENTIVE', u'mail_order': True, u'cost_sharing': [{u'copay_amount': 0.0, u'pharmacy_type': u'3-MONTH-IN-RETAIL', u'copay_opt': u'BEFORE-DEDUCTIBLE', u'coinsurance_rate': 0.0, u'coinsurance_opt': None}]}, {u'drug_tier': u'VALUE', u'mail_order': True, u'cost_sharing': [{u'copay_amount': 18.0, u'pharmacy_type': u'3-MONTH-IN-MAIL', u'copay_opt': u'BEFORE-DEDUCTIBLE', u'coinsurance_rate': 0.0, u'coinsurance_opt': None}, {u'copay_amount': 6.0, u'pharmacy_type': u'3-MONTH-IN-RETAIL', u'copay_opt': u'BEFORE-DEDUCTIBLE', u'coinsurance_rate': 0.0, u'coinsurance_opt': None}, {u'copay_amount': 6.0, u'pharmacy_type': u'3-MONTH-OUT-RETAIL', u'copay_opt': u'BEFORE-DEDUCTIBLE', u'coinsurance_rate': 0.0, u'coinsurance_opt': None}]}, {u'drug_tier': u'MEDICAL-SERVICE-DRUGS', u'mail_order': True, u'cost_sharing': [{u'copay_amount': 0.0, u'pharmacy_type': u'3-MONTH-IN-RETAIL', u'copay_opt': u'NO-CHARGE', u'coinsurance_rate': 0.3, u'coinsurance_opt': u'AFTER-DEDUCTIBLE'}]}], u'plan_id_type': u'HIOS-PLAN-ID', u'last_updated_on': u'2016-05-04', u'summary_url': u'https://www.modahealth.com/pdfs/plans/individual/Moda_Providence_BeEquipped_2016_AK.pdf', u'plan_id': u'73836AK0750003', u'plan_contact': u'jessica.wagner@modahealth.com', u'_id': ObjectId('577c26fa86395f67705000d0'), u'marketing_url': u''} \n",
      "\n",
      "{u'marketing_name': u'Be Equipped (Select)', u'network': [{u'network_tier': u'PREFERRED'}], u'formulary': [{u'drug_tier': u'SELECT', u'mail_order': True, u'cost_sharing': [{u'copay_amount': 180.0, u'pharmacy_type': u'3-MONTH-IN-MAIL', u'copay_opt': u'NO-CHARGE', u'coinsurance_rate': 0.0, u'coinsurance_opt': None}, {u'copay_amount': 60.0, u'pharmacy_type': u'3-MONTH-IN-RETAIL', u'copay_opt': u'BEFORE-DEDUCTIBLE', u'coinsurance_rate': 0.0, u'coinsurance_opt': None}, {u'copay_amount': 60.0, u'pharmacy_type': u'3-MONTH-OUT-RETAIL', u'copay_opt': u'BEFORE-DEDUCTIBLE', u'coinsurance_rate': 0.0, u'coinsurance_opt': None}]}, {u'drug_tier': u'PREFERRED', u'mail_order': True, u'cost_sharing': [{u'copay_amount': 0.0, u'pharmacy_type': u'3-MONTH-IN-MAIL', u'copay_opt': u'NO-CHARGE', u'coinsurance_rate': 0.0, u'coinsurance_opt': None}, {u'copay_amount': 0.0, u'pharmacy_type': u'3-MONTH-IN-RETAIL', u'copay_opt': u'NO-CHARGE', u'coinsurance_rate': 0.35, u'coinsurance_opt': None}, {u'copay_amount': 0.0, u'pharmacy_type': u'3-MONTH-OUT-RETAIL', u'copay_opt': u'NO-CHARGE', u'coinsurance_rate': 0.35, u'coinsurance_opt': None}]}, {u'drug_tier': u'BRAND', u'mail_order': True, u'cost_sharing': [{u'copay_amount': 0.0, u'pharmacy_type': u'3-MONTH-IN-MAIL', u'copay_opt': u'NO-CHARGE', u'coinsurance_rate': 0.0, u'coinsurance_opt': None}, {u'copay_amount': 0.0, u'pharmacy_type': u'3-MONTH-IN-RETAIL', u'copay_opt': u'NO-CHARGE', u'coinsurance_rate': 0.45, u'coinsurance_opt': None}, {u'copay_amount': 0.0, u'pharmacy_type': u'3-MONTH-OUT-RETAIL', u'copay_opt': u'NO-CHARGE', u'coinsurance_rate': 0.45, u'coinsurance_opt': None}]}, {u'drug_tier': u'SPECIALTY', u'mail_order': True, u'cost_sharing': [{u'copay_amount': 0.0, u'pharmacy_type': u'1-MONTH-IN-RETAIL', u'copay_opt': u'NO-CHARGE', u'coinsurance_rate': 0.45, u'coinsurance_opt': u'AFTER-DEDUCTIBLE'}]}, {u'drug_tier': u'PREVENTIVE', u'mail_order': True, u'cost_sharing': [{u'copay_amount': 0.0, u'pharmacy_type': u'3-MONTH-IN-RETAIL', u'copay_opt': u'BEFORE-DEDUCTIBLE', u'coinsurance_rate': 0.0, u'coinsurance_opt': None}]}, {u'drug_tier': u'VALUE', u'mail_order': True, u'cost_sharing': [{u'copay_amount': 18.0, u'pharmacy_type': u'3-MONTH-IN-MAIL', u'copay_opt': u'BEFORE-DEDUCTIBLE', u'coinsurance_rate': 0.0, u'coinsurance_opt': None}, {u'copay_amount': 6.0, u'pharmacy_type': u'3-MONTH-IN-RETAIL', u'copay_opt': u'BEFORE-DEDUCTIBLE', u'coinsurance_rate': 0.0, u'coinsurance_opt': None}, {u'copay_amount': 6.0, u'pharmacy_type': u'3-MONTH-OUT-RETAIL', u'copay_opt': u'BEFORE-DEDUCTIBLE', u'coinsurance_rate': 0.0, u'coinsurance_opt': None}]}, {u'drug_tier': u'MEDICAL-SERVICE-DRUGS', u'mail_order': True, u'cost_sharing': [{u'copay_amount': 0.0, u'pharmacy_type': u'3-MONTH-IN-RETAIL', u'copay_opt': u'NO-CHARGE', u'coinsurance_rate': 0.3, u'coinsurance_opt': u'AFTER-DEDUCTIBLE'}]}], u'plan_id_type': u'HIOS-PLAN-ID', u'last_updated_on': u'2016-05-04', u'summary_url': u'https://www.modahealth.com/pdfs/plans/individual/Moda_Select_BeEquipped_2016_AK.pdf', u'plan_id': u'73836AK0750004', u'plan_contact': u'jessica.wagner@modahealth.com', u'_id': ObjectId('577c26fa86395f67705000d1'), u'marketing_url': u''} \n",
      "\n",
      "{u'marketing_name': u'Moda Health Select Be Vigorous', u'network': [{u'network_tier': u'PREFERRED'}], u'formulary': [{u'drug_tier': u'SELECT', u'mail_order': True, u'cost_sharing': [{u'copay_amount': 135.0, u'pharmacy_type': u'3-MONTH-IN-MAIL', u'copay_opt': u'NO-CHARGE', u'coinsurance_rate': 0.0, u'coinsurance_opt': None}, {u'copay_amount': 45.0, u'pharmacy_type': u'3-MONTH-IN-RETAIL', u'copay_opt': u'BEFORE-DEDUCTIBLE', u'coinsurance_rate': 0.0, u'coinsurance_opt': None}, {u'copay_amount': 45.0, u'pharmacy_type': u'3-MONTH-OUT-RETAIL', u'copay_opt': u'BEFORE-DEDUCTIBLE', u'coinsurance_rate': 0.0, u'coinsurance_opt': None}]}, {u'drug_tier': u'PREFERRED', u'mail_order': True, u'cost_sharing': [{u'copay_amount': 0.0, u'pharmacy_type': u'3-MONTH-IN-MAIL', u'copay_opt': u'NO-CHARGE', u'coinsurance_rate': 0.0, u'coinsurance_opt': None}, {u'copay_amount': 0.0, u'pharmacy_type': u'3-MONTH-IN-RETAIL', u'copay_opt': u'NO-CHARGE', u'coinsurance_rate': 0.35, u'coinsurance_opt': None}, {u'copay_amount': 0.0, u'pharmacy_type': u'3-MONTH-OUT-RETAIL', u'copay_opt': u'NO-CHARGE', u'coinsurance_rate': 0.35, u'coinsurance_opt': None}]}, {u'drug_tier': u'BRAND', u'mail_order': True, u'cost_sharing': [{u'copay_amount': 0.0, u'pharmacy_type': u'3-MONTH-IN-MAIL', u'copay_opt': u'NO-CHARGE', u'coinsurance_rate': 0.0, u'coinsurance_opt': None}, {u'copay_amount': 0.0, u'pharmacy_type': u'3-MONTH-IN-RETAIL', u'copay_opt': u'NO-CHARGE', u'coinsurance_rate': 0.45, u'coinsurance_opt': None}, {u'copay_amount': 0.0, u'pharmacy_type': u'3-MONTH-OUT-RETAIL', u'copay_opt': u'NO-CHARGE', u'coinsurance_rate': 0.45, u'coinsurance_opt': None}]}, {u'drug_tier': u'SPECIALTY', u'mail_order': True, u'cost_sharing': [{u'copay_amount': 0.0, u'pharmacy_type': u'1-MONTH-IN-RETAIL', u'copay_opt': u'NO-CHARGE', u'coinsurance_rate': 0.45, u'coinsurance_opt': u'AFTER-DEDUCTIBLE'}]}, {u'drug_tier': u'PREVENTIVE', u'mail_order': True, u'cost_sharing': [{u'copay_amount': 0.0, u'pharmacy_type': u'3-MONTH-IN-RETAIL', u'copay_opt': u'BEFORE-DEDUCTIBLE', u'coinsurance_rate': 0.0, u'coinsurance_opt': None}]}, {u'drug_tier': u'VALUE', u'mail_order': True, u'cost_sharing': [{u'copay_amount': 18.0, u'pharmacy_type': u'3-MONTH-IN-MAIL', u'copay_opt': u'BEFORE-DEDUCTIBLE', u'coinsurance_rate': 0.0, u'coinsurance_opt': None}, {u'copay_amount': 6.0, u'pharmacy_type': u'3-MONTH-IN-RETAIL', u'copay_opt': u'BEFORE-DEDUCTIBLE', u'coinsurance_rate': 0.0, u'coinsurance_opt': None}, {u'copay_amount': 6.0, u'pharmacy_type': u'3-MONTH-OUT-RETAIL', u'copay_opt': u'BEFORE-DEDUCTIBLE', u'coinsurance_rate': 0.0, u'coinsurance_opt': None}]}, {u'drug_tier': u'MEDICAL-SERVICE-DRUGS', u'mail_order': True, u'cost_sharing': [{u'copay_amount': 0.0, u'pharmacy_type': u'3-MONTH-IN-RETAIL', u'copay_opt': u'NO-CHARGE', u'coinsurance_rate': 0.35, u'coinsurance_opt': u'AFTER-DEDUCTIBLE'}]}], u'plan_id_type': u'HIOS-PLAN-ID', u'last_updated_on': u'2016-05-04', u'summary_url': u'https://www.modahealth.com/pdfs/plans/individual/Moda_Select_BeVigorous_2016_AK.pdf', u'plan_id': u'73836AK0840001', u'plan_contact': u'jessica.wagner@modahealth.com', u'_id': ObjectId('577c26fa86395f67705000d2'), u'marketing_url': u''} \n",
      "\n",
      "{u'marketing_name': u'Moda Health Select Be Secure', u'network': [{u'network_tier': u'PREFERRED'}], u'formulary': [{u'drug_tier': u'SELECT', u'mail_order': True, u'cost_sharing': [{u'copay_amount': 0.0, u'pharmacy_type': u'3-MONTH-IN-MAIL', u'copay_opt': u'NO-CHARGE', u'coinsurance_rate': 0.0, u'coinsurance_opt': None}, {u'copay_amount': 0.0, u'pharmacy_type': u'3-MONTH-IN-RETAIL', u'copay_opt': u'NO-CHARGE', u'coinsurance_rate': 0.3, u'coinsurance_opt': u'AFTER-DEDUCTIBLE'}, {u'copay_amount': 0.0, u'pharmacy_type': u'3-MONTH-OUT-RETAIL', u'copay_opt': u'NO-CHARGE', u'coinsurance_rate': 0.3, u'coinsurance_opt': u'AFTER-DEDUCTIBLE'}]}, {u'drug_tier': u'PREFERRED', u'mail_order': True, u'cost_sharing': [{u'copay_amount': 0.0, u'pharmacy_type': u'3-MONTH-IN-MAIL', u'copay_opt': u'NO-CHARGE', u'coinsurance_rate': 0.0, u'coinsurance_opt': None}, {u'copay_amount': 0.0, u'pharmacy_type': u'3-MONTH-IN-RETAIL', u'copay_opt': u'NO-CHARGE', u'coinsurance_rate': 0.35, u'coinsurance_opt': u'AFTER-DEDUCTIBLE'}, {u'copay_amount': 0.0, u'pharmacy_type': u'3-MONTH-OUT-RETAIL', u'copay_opt': u'NO-CHARGE', u'coinsurance_rate': 0.35, u'coinsurance_opt': u'AFTER-DEDUCTIBLE'}]}, {u'drug_tier': u'BRAND', u'mail_order': True, u'cost_sharing': [{u'copay_amount': 0.0, u'pharmacy_type': u'3-MONTH-IN-MAIL', u'copay_opt': u'NO-CHARGE', u'coinsurance_rate': 0.0, u'coinsurance_opt': None}, {u'copay_amount': 0.0, u'pharmacy_type': u'3-MONTH-IN-RETAIL', u'copay_opt': u'NO-CHARGE', u'coinsurance_rate': 0.45, u'coinsurance_opt': u'AFTER-DEDUCTIBLE'}, {u'copay_amount': 0.0, u'pharmacy_type': u'3-MONTH-OUT-RETAIL', u'copay_opt': u'NO-CHARGE', u'coinsurance_rate': 0.45, u'coinsurance_opt': u'AFTER-DEDUCTIBLE'}]}, {u'drug_tier': u'SPECIALTY', u'mail_order': True, u'cost_sharing': [{u'copay_amount': 0.0, u'pharmacy_type': u'1-MONTH-IN-RETAIL', u'copay_opt': u'NO-CHARGE', u'coinsurance_rate': 0.45, u'coinsurance_opt': u'AFTER-DEDUCTIBLE'}]}, {u'drug_tier': u'PREVENTIVE', u'mail_order': True, u'cost_sharing': [{u'copay_amount': 0.0, u'pharmacy_type': u'3-MONTH-IN-RETAIL', u'copay_opt': u'BEFORE-DEDUCTIBLE', u'coinsurance_rate': 0.0, u'coinsurance_opt': None}]}, {u'drug_tier': u'VALUE', u'mail_order': True, u'cost_sharing': [{u'copay_amount': 0.0, u'pharmacy_type': u'3-MONTH-IN-MAIL', u'copay_opt': u'NO-CHARGE', u'coinsurance_rate': 0.0, u'coinsurance_opt': None}, {u'copay_amount': 6.0, u'pharmacy_type': u'3-MONTH-IN-RETAIL', u'copay_opt': u'BEFORE-DEDUCTIBLE', u'coinsurance_rate': 0.0, u'coinsurance_opt': None}, {u'copay_amount': 6.0, u'pharmacy_type': u'3-MONTH-OUT-RETAIL', u'copay_opt': u'BEFORE-DEDUCTIBLE', u'coinsurance_rate': 0.0, u'coinsurance_opt': None}]}, {u'drug_tier': u'MEDICAL-SERVICE-DRUGS', u'mail_order': True, u'cost_sharing': [{u'copay_amount': 0.0, u'pharmacy_type': u'3-MONTH-IN-RETAIL', u'copay_opt': u'NO-CHARGE', u'coinsurance_rate': 0.4, u'coinsurance_opt': u'AFTER-DEDUCTIBLE'}]}], u'plan_id_type': u'HIOS-PLAN-ID', u'last_updated_on': u'2016-05-04', u'summary_url': u'https://www.modahealth.com/pdfs/plans/individual/Moda_Select_BeSecure_2016_AK.pdf', u'plan_id': u'73836AK0850001', u'plan_contact': u'jessica.wagner@modahealth.com', u'_id': ObjectId('577c26fa86395f67705000d3'), u'marketing_url': u''} \n",
      "\n",
      "{u'marketing_name': u'Moda Health Providence Be Secure', u'network': [{u'network_tier': u'PREFERRED'}], u'formulary': [{u'drug_tier': u'SELECT', u'mail_order': True, u'cost_sharing': [{u'copay_amount': 0.0, u'pharmacy_type': u'3-MONTH-IN-MAIL', u'copay_opt': u'NO-CHARGE', u'coinsurance_rate': 0.0, u'coinsurance_opt': None}, {u'copay_amount': 0.0, u'pharmacy_type': u'3-MONTH-IN-RETAIL', u'copay_opt': u'NO-CHARGE', u'coinsurance_rate': 0.3, u'coinsurance_opt': u'AFTER-DEDUCTIBLE'}, {u'copay_amount': 0.0, u'pharmacy_type': u'3-MONTH-OUT-RETAIL', u'copay_opt': u'NO-CHARGE', u'coinsurance_rate': 0.3, u'coinsurance_opt': u'AFTER-DEDUCTIBLE'}]}, {u'drug_tier': u'PREFERRED', u'mail_order': True, u'cost_sharing': [{u'copay_amount': 0.0, u'pharmacy_type': u'3-MONTH-IN-MAIL', u'copay_opt': u'NO-CHARGE', u'coinsurance_rate': 0.0, u'coinsurance_opt': None}, {u'copay_amount': 0.0, u'pharmacy_type': u'3-MONTH-IN-RETAIL', u'copay_opt': u'NO-CHARGE', u'coinsurance_rate': 0.35, u'coinsurance_opt': u'AFTER-DEDUCTIBLE'}, {u'copay_amount': 0.0, u'pharmacy_type': u'3-MONTH-OUT-RETAIL', u'copay_opt': u'NO-CHARGE', u'coinsurance_rate': 0.35, u'coinsurance_opt': u'AFTER-DEDUCTIBLE'}]}, {u'drug_tier': u'BRAND', u'mail_order': True, u'cost_sharing': [{u'copay_amount': 0.0, u'pharmacy_type': u'3-MONTH-IN-MAIL', u'copay_opt': u'NO-CHARGE', u'coinsurance_rate': 0.0, u'coinsurance_opt': None}, {u'copay_amount': 0.0, u'pharmacy_type': u'3-MONTH-IN-RETAIL', u'copay_opt': u'NO-CHARGE', u'coinsurance_rate': 0.45, u'coinsurance_opt': u'AFTER-DEDUCTIBLE'}, {u'copay_amount': 0.0, u'pharmacy_type': u'3-MONTH-OUT-RETAIL', u'copay_opt': u'NO-CHARGE', u'coinsurance_rate': 0.45, u'coinsurance_opt': u'AFTER-DEDUCTIBLE'}]}, {u'drug_tier': u'SPECIALTY', u'mail_order': True, u'cost_sharing': [{u'copay_amount': 0.0, u'pharmacy_type': u'1-MONTH-IN-RETAIL', u'copay_opt': u'NO-CHARGE', u'coinsurance_rate': 0.45, u'coinsurance_opt': u'AFTER-DEDUCTIBLE'}]}, {u'drug_tier': u'PREVENTIVE', u'mail_order': True, u'cost_sharing': [{u'copay_amount': 0.0, u'pharmacy_type': u'3-MONTH-IN-RETAIL', u'copay_opt': u'BEFORE-DEDUCTIBLE', u'coinsurance_rate': 0.0, u'coinsurance_opt': None}]}, {u'drug_tier': u'VALUE', u'mail_order': True, u'cost_sharing': [{u'copay_amount': 0.0, u'pharmacy_type': u'3-MONTH-IN-MAIL', u'copay_opt': u'NO-CHARGE', u'coinsurance_rate': 0.0, u'coinsurance_opt': None}, {u'copay_amount': 6.0, u'pharmacy_type': u'3-MONTH-IN-RETAIL', u'copay_opt': u'BEFORE-DEDUCTIBLE', u'coinsurance_rate': 0.0, u'coinsurance_opt': None}, {u'copay_amount': 6.0, u'pharmacy_type': u'3-MONTH-OUT-RETAIL', u'copay_opt': u'BEFORE-DEDUCTIBLE', u'coinsurance_rate': 0.0, u'coinsurance_opt': None}]}, {u'drug_tier': u'MEDICAL-SERVICE-DRUGS', u'mail_order': True, u'cost_sharing': [{u'copay_amount': 0.0, u'pharmacy_type': u'3-MONTH-IN-RETAIL', u'copay_opt': u'NO-CHARGE', u'coinsurance_rate': 0.4, u'coinsurance_opt': u'AFTER-DEDUCTIBLE'}]}], u'plan_id_type': u'HIOS-PLAN-ID', u'last_updated_on': u'2016-05-04', u'summary_url': u'https://www.modahealth.com/pdfs/plans/individual/Moda_Providence_BeVigorous_2016_AK.pdf', u'plan_id': u'73836AK0850002', u'plan_contact': u'jessica.wagner@modahealth.com', u'_id': ObjectId('577c26fa86395f67705000d4'), u'marketing_url': u''} \n",
      "\n",
      "{u'marketing_name': u'Moda Health Select Be Safeguarded', u'network': [{u'network_tier': u'PREFERRED'}], u'formulary': [{u'drug_tier': u'SELECT', u'mail_order': True, u'cost_sharing': [{u'copay_amount': 135.0, u'pharmacy_type': u'3-MONTH-IN-MAIL', u'copay_opt': u'NO-CHARGE', u'coinsurance_rate': 0.0, u'coinsurance_opt': None}, {u'copay_amount': 45.0, u'pharmacy_type': u'3-MONTH-IN-RETAIL', u'copay_opt': u'BEFORE-DEDUCTIBLE', u'coinsurance_rate': 0.0, u'coinsurance_opt': None}, {u'copay_amount': 45.0, u'pharmacy_type': u'3-MONTH-OUT-RETAIL', u'copay_opt': u'BEFORE-DEDUCTIBLE', u'coinsurance_rate': 0.0, u'coinsurance_opt': None}]}, {u'drug_tier': u'PREFERRED', u'mail_order': True, u'cost_sharing': [{u'copay_amount': 0.0, u'pharmacy_type': u'3-MONTH-IN-MAIL', u'copay_opt': u'NO-CHARGE', u'coinsurance_rate': 0.0, u'coinsurance_opt': None}, {u'copay_amount': 0.0, u'pharmacy_type': u'3-MONTH-IN-RETAIL', u'copay_opt': u'NO-CHARGE', u'coinsurance_rate': 0.35, u'coinsurance_opt': u'AFTER-DEDUCTIBLE'}, {u'copay_amount': 0.0, u'pharmacy_type': u'3-MONTH-OUT-RETAIL', u'copay_opt': u'NO-CHARGE', u'coinsurance_rate': 0.35, u'coinsurance_opt': u'AFTER-DEDUCTIBLE'}]}, {u'drug_tier': u'BRAND', u'mail_order': True, u'cost_sharing': [{u'copay_amount': 0.0, u'pharmacy_type': u'3-MONTH-IN-MAIL', u'copay_opt': u'NO-CHARGE', u'coinsurance_rate': 0.0, u'coinsurance_opt': None}, {u'copay_amount': 0.0, u'pharmacy_type': u'3-MONTH-IN-RETAIL', u'copay_opt': u'NO-CHARGE', u'coinsurance_rate': 0.45, u'coinsurance_opt': u'AFTER-DEDUCTIBLE'}, {u'copay_amount': 0.0, u'pharmacy_type': u'3-MONTH-OUT-RETAIL', u'copay_opt': u'NO-CHARGE', u'coinsurance_rate': 0.45, u'coinsurance_opt': u'AFTER-DEDUCTIBLE'}]}, {u'drug_tier': u'SPECIALTY', u'mail_order': True, u'cost_sharing': [{u'copay_amount': 0.0, u'pharmacy_type': u'1-MONTH-IN-RETAIL', u'copay_opt': u'NO-CHARGE', u'coinsurance_rate': 0.45, u'coinsurance_opt': u'AFTER-DEDUCTIBLE'}]}, {u'drug_tier': u'PREVENTIVE', u'mail_order': True, u'cost_sharing': [{u'copay_amount': 0.0, u'pharmacy_type': u'3-MONTH-IN-RETAIL', u'copay_opt': u'BEFORE-DEDUCTIBLE', u'coinsurance_rate': 0.0, u'coinsurance_opt': None}]}, {u'drug_tier': u'VALUE', u'mail_order': True, u'cost_sharing': [{u'copay_amount': 18.0, u'pharmacy_type': u'3-MONTH-IN-MAIL', u'copay_opt': u'BEFORE-DEDUCTIBLE', u'coinsurance_rate': 0.0, u'coinsurance_opt': None}, {u'copay_amount': 6.0, u'pharmacy_type': u'3-MONTH-IN-RETAIL', u'copay_opt': u'BEFORE-DEDUCTIBLE', u'coinsurance_rate': 0.0, u'coinsurance_opt': None}, {u'copay_amount': 6.0, u'pharmacy_type': u'3-MONTH-OUT-RETAIL', u'copay_opt': u'BEFORE-DEDUCTIBLE', u'coinsurance_rate': 0.0, u'coinsurance_opt': None}]}, {u'drug_tier': u'MEDICAL-SERVICE-DRUGS', u'mail_order': True, u'cost_sharing': [{u'copay_amount': 0.0, u'pharmacy_type': u'3-MONTH-IN-RETAIL', u'copay_opt': u'NO-CHARGE', u'coinsurance_rate': 0.35, u'coinsurance_opt': u'AFTER-DEDUCTIBLE'}]}], u'plan_id_type': u'HIOS-PLAN-ID', u'last_updated_on': u'2016-05-04', u'summary_url': u'https://www.modahealth.com/pdfs/plans/individual/Moda_Select_BeSafeguarded_2016_AK.pdf', u'plan_id': u'73836AK0860001', u'plan_contact': u'jessica.wagner@modahealth.com', u'_id': ObjectId('577c26fa86395f67705000d5'), u'marketing_url': u''} \n",
      "\n",
      "{u'marketing_name': u'Moda Health Providence Be Safeguarded', u'network': [{u'network_tier': u'PREFERRED'}], u'formulary': [{u'drug_tier': u'SELECT', u'mail_order': True, u'cost_sharing': [{u'copay_amount': 135.0, u'pharmacy_type': u'3-MONTH-IN-MAIL', u'copay_opt': u'NO-CHARGE', u'coinsurance_rate': 0.0, u'coinsurance_opt': None}, {u'copay_amount': 45.0, u'pharmacy_type': u'3-MONTH-IN-RETAIL', u'copay_opt': u'BEFORE-DEDUCTIBLE', u'coinsurance_rate': 0.0, u'coinsurance_opt': None}, {u'copay_amount': 45.0, u'pharmacy_type': u'3-MONTH-OUT-RETAIL', u'copay_opt': u'BEFORE-DEDUCTIBLE', u'coinsurance_rate': 0.0, u'coinsurance_opt': None}]}, {u'drug_tier': u'PREFERRED', u'mail_order': True, u'cost_sharing': [{u'copay_amount': 0.0, u'pharmacy_type': u'3-MONTH-IN-MAIL', u'copay_opt': u'NO-CHARGE', u'coinsurance_rate': 0.0, u'coinsurance_opt': None}, {u'copay_amount': 0.0, u'pharmacy_type': u'3-MONTH-IN-RETAIL', u'copay_opt': u'NO-CHARGE', u'coinsurance_rate': 0.35, u'coinsurance_opt': u'AFTER-DEDUCTIBLE'}, {u'copay_amount': 0.0, u'pharmacy_type': u'3-MONTH-OUT-RETAIL', u'copay_opt': u'NO-CHARGE', u'coinsurance_rate': 0.35, u'coinsurance_opt': u'AFTER-DEDUCTIBLE'}]}, {u'drug_tier': u'BRAND', u'mail_order': True, u'cost_sharing': [{u'copay_amount': 0.0, u'pharmacy_type': u'3-MONTH-IN-MAIL', u'copay_opt': u'NO-CHARGE', u'coinsurance_rate': 0.0, u'coinsurance_opt': None}, {u'copay_amount': 0.0, u'pharmacy_type': u'3-MONTH-IN-RETAIL', u'copay_opt': u'NO-CHARGE', u'coinsurance_rate': 0.45, u'coinsurance_opt': u'AFTER-DEDUCTIBLE'}, {u'copay_amount': 0.0, u'pharmacy_type': u'3-MONTH-OUT-RETAIL', u'copay_opt': u'NO-CHARGE', u'coinsurance_rate': 0.45, u'coinsurance_opt': u'AFTER-DEDUCTIBLE'}]}, {u'drug_tier': u'SPECIALTY', u'mail_order': True, u'cost_sharing': [{u'copay_amount': 0.0, u'pharmacy_type': u'1-MONTH-IN-RETAIL', u'copay_opt': u'NO-CHARGE', u'coinsurance_rate': 0.45, u'coinsurance_opt': u'AFTER-DEDUCTIBLE'}]}, {u'drug_tier': u'PREVENTIVE', u'mail_order': True, u'cost_sharing': [{u'copay_amount': 0.0, u'pharmacy_type': u'3-MONTH-IN-RETAIL', u'copay_opt': u'BEFORE-DEDUCTIBLE', u'coinsurance_rate': 0.0, u'coinsurance_opt': None}]}, {u'drug_tier': u'VALUE', u'mail_order': True, u'cost_sharing': [{u'copay_amount': 18.0, u'pharmacy_type': u'3-MONTH-IN-MAIL', u'copay_opt': u'BEFORE-DEDUCTIBLE', u'coinsurance_rate': 0.0, u'coinsurance_opt': None}, {u'copay_amount': 6.0, u'pharmacy_type': u'3-MONTH-IN-RETAIL', u'copay_opt': u'BEFORE-DEDUCTIBLE', u'coinsurance_rate': 0.0, u'coinsurance_opt': None}, {u'copay_amount': 6.0, u'pharmacy_type': u'3-MONTH-OUT-RETAIL', u'copay_opt': u'BEFORE-DEDUCTIBLE', u'coinsurance_rate': 0.0, u'coinsurance_opt': None}]}, {u'drug_tier': u'MEDICAL-SERVICE-DRUGS', u'mail_order': True, u'cost_sharing': [{u'copay_amount': 0.0, u'pharmacy_type': u'3-MONTH-IN-RETAIL', u'copay_opt': u'NO-CHARGE', u'coinsurance_rate': 0.35, u'coinsurance_opt': u'AFTER-DEDUCTIBLE'}]}], u'plan_id_type': u'HIOS-PLAN-ID', u'last_updated_on': u'2016-05-04', u'summary_url': u'https://www.modahealth.com/pdfs/plans/individual/Moda_Providence_BeSafeguarded_2016_AK.pdf', u'plan_id': u'73836AK0860002', u'plan_contact': u'jessica.wagner@modahealth.com', u'_id': ObjectId('577c26fa86395f67705000d6'), u'marketing_url': u''} \n",
      "\n",
      "{u'marketing_name': u'Be Rugged (Providence)', u'network': [{u'network_tier': u'PREFERRED'}], u'formulary': [{u'drug_tier': u'SELECT', u'mail_order': True, u'cost_sharing': [{u'copay_amount': 0.0, u'pharmacy_type': u'3-MONTH-IN-MAIL', u'copay_opt': u'NO-CHARGE', u'coinsurance_rate': 0.0, u'coinsurance_opt': None}, {u'copay_amount': 0.0, u'pharmacy_type': u'3-MONTH-IN-RETAIL', u'copay_opt': u'NO-CHARGE', u'coinsurance_rate': 0.0, u'coinsurance_opt': u'AFTER-DEDUCTIBLE'}, {u'copay_amount': 0.0, u'pharmacy_type': u'3-MONTH-OUT-RETAIL', u'copay_opt': u'NO-CHARGE', u'coinsurance_rate': 0.0, u'coinsurance_opt': u'AFTER-DEDUCTIBLE'}]}, {u'drug_tier': u'PREFERRED', u'mail_order': True, u'cost_sharing': [{u'copay_amount': 0.0, u'pharmacy_type': u'3-MONTH-OUT-RETAIL', u'copay_opt': u'NO-CHARGE', u'coinsurance_rate': 0.0, u'coinsurance_opt': u'AFTER-DEDUCTIBLE'}, {u'copay_amount': 0.0, u'pharmacy_type': u'3-MONTH-IN-MAIL', u'copay_opt': u'NO-CHARGE', u'coinsurance_rate': 0.0, u'coinsurance_opt': None}, {u'copay_amount': 0.0, u'pharmacy_type': u'3-MONTH-IN-RETAIL', u'copay_opt': u'NO-CHARGE', u'coinsurance_rate': 0.0, u'coinsurance_opt': u'AFTER-DEDUCTIBLE'}]}, {u'drug_tier': u'BRAND', u'mail_order': True, u'cost_sharing': [{u'copay_amount': 0.0, u'pharmacy_type': u'3-MONTH-IN-MAIL', u'copay_opt': u'NO-CHARGE', u'coinsurance_rate': 0.0, u'coinsurance_opt': None}, {u'copay_amount': 0.0, u'pharmacy_type': u'3-MONTH-IN-RETAIL', u'copay_opt': u'NO-CHARGE', u'coinsurance_rate': 0.0, u'coinsurance_opt': u'AFTER-DEDUCTIBLE'}, {u'copay_amount': 0.0, u'pharmacy_type': u'3-MONTH-OUT-RETAIL', u'copay_opt': u'NO-CHARGE', u'coinsurance_rate': 0.0, u'coinsurance_opt': u'AFTER-DEDUCTIBLE'}]}, {u'drug_tier': u'SPECIALTY', u'mail_order': True, u'cost_sharing': [{u'copay_amount': 0.0, u'pharmacy_type': u'1-MONTH-IN-RETAIL', u'copay_opt': u'NO-CHARGE', u'coinsurance_rate': 0.0, u'coinsurance_opt': u'AFTER-DEDUCTIBLE'}]}, {u'drug_tier': u'PREVENTIVE', u'mail_order': True, u'cost_sharing': [{u'copay_amount': 0.0, u'pharmacy_type': u'3-MONTH-IN-RETAIL', u'copay_opt': u'BEFORE-DEDUCTIBLE', u'coinsurance_rate': 0.0, u'coinsurance_opt': None}]}, {u'drug_tier': u'VALUE', u'mail_order': True, u'cost_sharing': [{u'copay_amount': 0.0, u'pharmacy_type': u'3-MONTH-IN-MAIL', u'copay_opt': u'NO-CHARGE', u'coinsurance_rate': 0.0, u'coinsurance_opt': None}, {u'copay_amount': 0.0, u'pharmacy_type': u'3-MONTH-IN-RETAIL', u'copay_opt': u'NO-CHARGE', u'coinsurance_rate': 0.0, u'coinsurance_opt': u'AFTER-DEDUCTIBLE'}, {u'copay_amount': 0.0, u'pharmacy_type': u'3-MONTH-OUT-RETAIL', u'copay_opt': u'NO-CHARGE', u'coinsurance_rate': 0.0, u'coinsurance_opt': u'AFTER-DEDUCTIBLE'}]}, {u'drug_tier': u'MEDICAL-SERVICE-DRUGS', u'mail_order': True, u'cost_sharing': [{u'copay_amount': 0.0, u'pharmacy_type': u'3-MONTH-IN-RETAIL', u'copay_opt': u'NO-CHARGE', u'coinsurance_rate': 0.0, u'coinsurance_opt': u'AFTER-DEDUCTIBLE'}]}], u'plan_id_type': u'HIOS-PLAN-ID', u'last_updated_on': u'2016-05-04', u'summary_url': u'https://www.modahealth.com/pdfs/plans/individual/Moda_Providence_BeRugged_2016_AK.pdf', u'plan_id': u'73836AK0790001', u'plan_contact': u'jessica.wagner@modahealth.com', u'_id': ObjectId('577c26fa86395f67705000d7'), u'marketing_url': u''} \n",
      "\n",
      "{u'marketing_name': u'Be Rugged (Select)', u'network': [{u'network_tier': u'PREFERRED'}], u'formulary': [{u'drug_tier': u'SELECT', u'mail_order': True, u'cost_sharing': [{u'copay_amount': 0.0, u'pharmacy_type': u'3-MONTH-IN-MAIL', u'copay_opt': u'NO-CHARGE', u'coinsurance_rate': 0.0, u'coinsurance_opt': None}, {u'copay_amount': 0.0, u'pharmacy_type': u'3-MONTH-IN-RETAIL', u'copay_opt': u'NO-CHARGE', u'coinsurance_rate': 0.0, u'coinsurance_opt': u'AFTER-DEDUCTIBLE'}, {u'copay_amount': 0.0, u'pharmacy_type': u'3-MONTH-OUT-RETAIL', u'copay_opt': u'NO-CHARGE', u'coinsurance_rate': 0.0, u'coinsurance_opt': u'AFTER-DEDUCTIBLE'}]}, {u'drug_tier': u'PREFERRED', u'mail_order': True, u'cost_sharing': [{u'copay_amount': 0.0, u'pharmacy_type': u'3-MONTH-IN-MAIL', u'copay_opt': u'NO-CHARGE', u'coinsurance_rate': 0.0, u'coinsurance_opt': None}, {u'copay_amount': 0.0, u'pharmacy_type': u'3-MONTH-IN-RETAIL', u'copay_opt': u'NO-CHARGE', u'coinsurance_rate': 0.0, u'coinsurance_opt': u'AFTER-DEDUCTIBLE'}, {u'copay_amount': 0.0, u'pharmacy_type': u'3-MONTH-OUT-RETAIL', u'copay_opt': u'NO-CHARGE', u'coinsurance_rate': 0.0, u'coinsurance_opt': u'AFTER-DEDUCTIBLE'}]}, {u'drug_tier': u'BRAND', u'mail_order': True, u'cost_sharing': [{u'copay_amount': 0.0, u'pharmacy_type': u'3-MONTH-IN-MAIL', u'copay_opt': u'NO-CHARGE', u'coinsurance_rate': 0.0, u'coinsurance_opt': None}, {u'copay_amount': 0.0, u'pharmacy_type': u'3-MONTH-IN-RETAIL', u'copay_opt': u'NO-CHARGE', u'coinsurance_rate': 0.0, u'coinsurance_opt': u'AFTER-DEDUCTIBLE'}, {u'copay_amount': 0.0, u'pharmacy_type': u'3-MONTH-OUT-RETAIL', u'copay_opt': u'NO-CHARGE', u'coinsurance_rate': 0.0, u'coinsurance_opt': u'AFTER-DEDUCTIBLE'}]}, {u'drug_tier': u'SPECIALTY', u'mail_order': True, u'cost_sharing': [{u'copay_amount': 0.0, u'pharmacy_type': u'1-MONTH-IN-RETAIL', u'copay_opt': u'NO-CHARGE', u'coinsurance_rate': 0.0, u'coinsurance_opt': u'AFTER-DEDUCTIBLE'}]}, {u'drug_tier': u'PREVENTIVE', u'mail_order': True, u'cost_sharing': [{u'copay_amount': 0.0, u'pharmacy_type': u'3-MONTH-IN-RETAIL', u'copay_opt': u'BEFORE-DEDUCTIBLE', u'coinsurance_rate': 0.0, u'coinsurance_opt': None}]}, {u'drug_tier': u'VALUE', u'mail_order': True, u'cost_sharing': [{u'copay_amount': 0.0, u'pharmacy_type': u'3-MONTH-IN-MAIL', u'copay_opt': u'NO-CHARGE', u'coinsurance_rate': 0.0, u'coinsurance_opt': None}, {u'copay_amount': 0.0, u'pharmacy_type': u'3-MONTH-IN-RETAIL', u'copay_opt': u'NO-CHARGE', u'coinsurance_rate': 0.0, u'coinsurance_opt': u'AFTER-DEDUCTIBLE'}, {u'copay_amount': 0.0, u'pharmacy_type': u'3-MONTH-OUT-RETAIL', u'copay_opt': u'NO-CHARGE', u'coinsurance_rate': 0.0, u'coinsurance_opt': u'AFTER-DEDUCTIBLE'}]}, {u'drug_tier': u'MEDICAL-SERVICE-DRUGS', u'mail_order': True, u'cost_sharing': [{u'copay_amount': 0.0, u'pharmacy_type': u'3-MONTH-IN-RETAIL', u'copay_opt': u'NO-CHARGE', u'coinsurance_rate': 0.0, u'coinsurance_opt': u'AFTER-DEDUCTIBLE'}]}], u'plan_id_type': u'HIOS-PLAN-ID', u'last_updated_on': u'2016-05-04', u'summary_url': u'https://www.modahealth.com/pdfs/plans/individual/Moda_Select_BeRugged_2016_AK.pdf', u'plan_id': u'73836AK0790002', u'plan_contact': u'jessica.wagner@modahealth.com', u'_id': ObjectId('577c26fa86395f67705000d8'), u'marketing_url': u''} \n",
      "\n",
      "{u'marketing_name': u'Delta Dental Premier Plan', u'network': [{u'network_tier': u'PREFERRED'}], u'formulary': [], u'plan_id_type': u'HIOS-PLAN-ID', u'last_updated_on': u'2016-05-04', u'summary_url': u'https://www.modahealth.com/pdfs/plans/individual/Moda_DeltaDentalPremierPlan_2016_AK.pdf', u'plan_id': u'21989AK0030001', u'plan_contact': u'jessica.wagner@modahealth.com', u'_id': ObjectId('577c26fa86395f67705000d9'), u'marketing_url': u''} \n",
      "\n",
      "{u'marketing_name': u'Delta Dental PPO 1000 Plan', u'network': [{u'network_tier': u'PREFERRED'}], u'formulary': [], u'plan_id_type': u'HIOS-PLAN-ID', u'last_updated_on': u'2016-05-04', u'summary_url': u'https://www.modahealth.com/pdfs/plans/individual/Moda_DeltaDentalPPO1000Plan_2016_AK.pdf', u'plan_id': u'21989AK0050001', u'plan_contact': u'jessica.wagner@modahealth.com', u'_id': ObjectId('577c26fa86395f67705000da'), u'marketing_url': u''} \n",
      "\n",
      "{u'marketing_name': u'Delta Dental PPO 1500 Plan', u'network': [{u'network_tier': u'PREFERRED'}], u'formulary': [], u'plan_id_type': u'HIOS-PLAN-ID', u'last_updated_on': u'2016-05-04', u'summary_url': u'https://www.modahealth.com/pdfs/plans/individual/Moda_DeltaDentalPPO1500Plan_2016_AK.pdf', u'plan_id': u'21989AK0050002', u'plan_contact': u'jessica.wagner@modahealth.com', u'_id': ObjectId('577c26fa86395f67705000db'), u'marketing_url': u''} \n",
      "\n",
      "{u'marketing_name': u'Delta Dental Premier Healthy Smiles Plan', u'network': [{u'network_tier': u'PREFERRED'}], u'formulary': [], u'plan_id_type': u'HIOS-PLAN-ID', u'last_updated_on': u'2016-05-04', u'summary_url': u'https://www.modahealth.com/pdfs/plans/individual/Moda_DeltaDentalPremierHealthySmilesPlan_2016_AK.pdf', u'plan_id': u'21989AK0070001', u'plan_contact': u'jessica.wagner@modahealth.com', u'_id': ObjectId('577c26fa86395f67705000dc'), u'marketing_url': u''} \n",
      "\n"
     ]
    }
   ],
   "source": [
    "for p in plan_col.find({'plan_id':{'$in':ak_plan}}):\n",
    "    print p,'\\n'"
   ]
  },
  {
   "cell_type": "code",
   "execution_count": 34,
   "metadata": {
    "collapsed": false
   },
   "outputs": [
    {
     "data": {
      "text/plain": [
       "1181"
      ]
     },
     "execution_count": 34,
     "metadata": {},
     "output_type": "execute_result"
    }
   ],
   "source": [
    "prov_col.count({'plans.plan_id':{'$eq':'73836AK0790002'}})"
   ]
  },
  {
   "cell_type": "code",
   "execution_count": 35,
   "metadata": {
    "collapsed": false
   },
   "outputs": [
    {
     "data": {
      "text/plain": [
       "8809"
      ]
     },
     "execution_count": 35,
     "metadata": {},
     "output_type": "execute_result"
    }
   ],
   "source": [
    "drug_col.count({'plans.plan_id':{'$eq':'73836AK0790002'}})"
   ]
  },
  {
   "cell_type": "code",
   "execution_count": 162,
   "metadata": {
    "collapsed": false
   },
   "outputs": [],
   "source": [
    "%reload_ext autoreload\n",
    "%autoreload 2\n",
    "from query_drug_feature import *\n",
    "from query_plan_feature import *\n",
    "from query_provider_feature import *"
   ]
  },
  {
   "cell_type": "code",
   "execution_count": 33,
   "metadata": {
    "collapsed": false
   },
   "outputs": [
    {
     "name": "stdout",
     "output_type": "stream",
     "text": [
      "38344AK0620003 3066\n",
      "38344AK0620004 3066\n",
      "38344AK0620006 3066\n",
      "38344AK0620008 3066\n",
      "38344AK0570001 3066\n",
      "38344AK0570002 3066\n",
      "38344AK0980003 3066\n",
      "38344AK0980006 3066\n",
      "38344AK0980012 3066\n",
      "74819AK0010007 56895\n",
      "74819AK0010008 56895\n",
      "74819AK0010009 56895\n",
      "74819AK0010010 56895\n",
      "74819AK0010011 56895\n",
      "74819AK0010012 56895\n",
      "74819AK0020003 56895\n",
      "74819AK0020004 56895\n",
      "74819AK0020005 56895\n",
      "74819AK0020006 56895\n",
      "73836AK0750001 952\n",
      "73836AK0750002 1099\n",
      "73836AK0750003 952\n",
      "73836AK0750004 1099\n",
      "73836AK0840001 1099\n",
      "73836AK0850001 1099\n",
      "73836AK0850002 952\n",
      "73836AK0860001 1099\n",
      "73836AK0860002 952\n",
      "73836AK0790001 952\n",
      "73836AK0790002 1099\n",
      "21989AK0030001 350\n",
      "21989AK0050001 143\n",
      "21989AK0050002 143\n",
      "21989AK0070001 350\n"
     ]
    }
   ],
   "source": [
    "for p in ak_plan:\n",
    "    for f in getProviderListForPlans(prov_col, [p]):\n",
    "        print p, len(f['npi'])"
   ]
  },
  {
   "cell_type": "code",
   "execution_count": 143,
   "metadata": {
    "collapsed": false
   },
   "outputs": [],
   "source": [
    "prov_state = getProviderAllStates(prov_col, ak_plan)\n",
    "one_s=getProviderStateForOnePlan(prov_col, '74819AK0020003')"
   ]
  },
  {
   "cell_type": "code",
   "execution_count": 159,
   "metadata": {
    "collapsed": false,
    "scrolled": true
   },
   "outputs": [],
   "source": [
    "# [(p['count'],p['key']) for p in one_s]\n",
    "# prov_col.find_one({'plans.plan_id':{'$eq':'74819AK0010007'}})\n",
    "# len(prov_state)\n",
    "drug_state = getDrugAggregateAllStates(drug_col, ak_plan)\n",
    "# one_s"
   ]
  },
  {
   "cell_type": "code",
   "execution_count": 156,
   "metadata": {
    "collapsed": false
   },
   "outputs": [],
   "source": [
    "ds=[[f['cnt'],f['key']] for f in getDrugAggregateCountForOnePlan(drug_col,'38344AK0620003')]\n",
    "# drug_col.count({'plans.plan_id':{'$in':['74819AK0010007']}})"
   ]
  },
  {
   "cell_type": "code",
   "execution_count": 164,
   "metadata": {
    "collapsed": false
   },
   "outputs": [
    {
     "data": {
      "text/plain": [
       "[{u'count': 1393, u'key': u'Periodontics', u'location': 8839},\n",
       " {u'count': 401, u'key': u'Prosthodontics', u'location': 1423},\n",
       " {u'count': 3238, u'key': u'Orthodontics', u'location': 18196},\n",
       " {u'count': 11, u'key': u'Oral Pathology', u'location': 103},\n",
       " {u'count': 2882, u'key': u'Oral Maxillofacial Surgery', u'location': 17956},\n",
       " {u'count': 1836, u'key': u'Endodontics', u'location': 9335},\n",
       " {u'count': 2371, u'key': u'Pediatric Dentistry', u'location': 11087},\n",
       " {u'count': 49050, u'key': u'General Dentistry', u'location': 195595}]"
      ]
     },
     "execution_count": 164,
     "metadata": {},
     "output_type": "execute_result"
    }
   ],
   "source": [
    "getProviderStateForOnePlan(prov_col, '74819AK0010009')"
   ]
  },
  {
   "cell_type": "code",
   "execution_count": 47,
   "metadata": {
    "collapsed": false
   },
   "outputs": [],
   "source": [
    "all_prov=prov_col.find({'plans.plan_id':{'$in':ak_plan}}).distinct('npi')\n",
    "one_prov=prov_col.find({'plans.plan_id':{'$eq':'73836AK0790001'}}).distinct('npi')"
   ]
  },
  {
   "cell_type": "code",
   "execution_count": 48,
   "metadata": {
    "collapsed": false
   },
   "outputs": [],
   "source": [
    "import numpy as np\n",
    "test = np.in1d(all_prov, one_prov, assume_unique=True)"
   ]
  },
  {
   "cell_type": "code",
   "execution_count": 82,
   "metadata": {
    "collapsed": false
   },
   "outputs": [],
   "source": [
    "sp1=csr_matrix(([1]*len(one_prov),([0]*len(one_prov),np.where(np.in1d(all_prov, one_prov, assume_unique=True))[0])),shape=(1,len(all_prov)))\n"
   ]
  },
  {
   "cell_type": "code",
   "execution_count": 167,
   "metadata": {
    "collapsed": false
   },
   "outputs": [
    {
     "data": {
      "text/plain": [
       "array([u'', u'AK', u'AL', u'AR', u'AZ', u'CO', u'DC', u'DE', u'FL', u'GA',\n",
       "       u'HI', u'IA', u'ID', u'IL', u'IN', u'KS', u'KY', u'LA', u'MA',\n",
       "       u'ME', u'MI', u'MO', u'MS', u'MT', u'NC', u'ND', u'NE', u'NH',\n",
       "       u'NJ', u'NM', u'NV', u'OH', u'OK', u'OR', u'PA', u'SC', u'SD',\n",
       "       u'TN', u'TX', u'UT', u'VA', u'WA', u'WI', u'WV', u'WY', u'XX'], \n",
       "      dtype='<U2')"
      ]
     },
     "execution_count": 167,
     "metadata": {},
     "output_type": "execute_result"
    }
   ],
   "source": [
    "all_plan = plan_col.distinct('plan_id')\n",
    "np.unique([i[5:7] for i in all_plan])"
   ]
  },
  {
   "cell_type": "code",
   "execution_count": 15,
   "metadata": {
    "collapsed": false
   },
   "outputs": [
    {
     "data": {
      "text/plain": [
       "{u'_id': ObjectId('577606dcc421d272dcd7deaa'),\n",
       " u'accepting': u'accepting',\n",
       " u'addresses': [{u'address': u'2235 DUBOIS DR',\n",
       "   u'address_2': u'',\n",
       "   u'city': u'WARSAW',\n",
       "   u'phone': u'2604232567',\n",
       "   u'state': u'IN',\n",
       "   u'zip': u'46580'}],\n",
       " u'facility_name': u'',\n",
       " u'facility_type': [],\n",
       " u'gender': u'Male',\n",
       " u'languages': [u'SPANISH'],\n",
       " u'last_updated_on': u'2016-06-18',\n",
       " u'name': {u'first': u'ALAN R', u'last': u'GILBERT MD'},\n",
       " u'npi': u'1215961677',\n",
       " u'plans': [{u'network_tier': u'PHP-SELECT',\n",
       "   u'plan_id': u'50816IN0200001',\n",
       "   u'plan_id_type': u'HIOS-PLAN-ID'},\n",
       "  {u'network_tier': u'PHP-SELECT',\n",
       "   u'plan_id': u'50816IN0200004',\n",
       "   u'plan_id_type': u'HIOS-PLAN-ID'},\n",
       "  {u'network_tier': u'PHP-SELECT',\n",
       "   u'plan_id': u'50816IN0200007',\n",
       "   u'plan_id_type': u'HIOS-PLAN-ID'},\n",
       "  {u'network_tier': u'PHP-SELECT',\n",
       "   u'plan_id': u'50816IN0200010',\n",
       "   u'plan_id_type': u'HIOS-PLAN-ID'},\n",
       "  {u'network_tier': u'PHP-SELECT',\n",
       "   u'plan_id': u'50816IN0200013',\n",
       "   u'plan_id_type': u'HIOS-PLAN-ID'},\n",
       "  {u'network_tier': u'PHP-SELECT',\n",
       "   u'plan_id': u'50816IN0200016',\n",
       "   u'plan_id_type': u'HIOS-PLAN-ID'},\n",
       "  {u'network_tier': u'PHP-SELECT',\n",
       "   u'plan_id': u'50816IN0200022',\n",
       "   u'plan_id_type': u'HIOS-PLAN-ID'},\n",
       "  {u'network_tier': u'PHP-SELECT',\n",
       "   u'plan_id': u'50816IN0200025',\n",
       "   u'plan_id_type': u'HIOS-PLAN-ID'},\n",
       "  {u'network_tier': u'PHP-SELECT',\n",
       "   u'plan_id': u'50816IN0230002',\n",
       "   u'plan_id_type': u'HIOS-PLAN-ID'},\n",
       "  {u'network_tier': u'PHP-SELECT',\n",
       "   u'plan_id': u'50816IN0230004',\n",
       "   u'plan_id_type': u'HIOS-PLAN-ID'},\n",
       "  {u'network_tier': u'PHP-SELECT',\n",
       "   u'plan_id': u'50816IN0230006',\n",
       "   u'plan_id_type': u'HIOS-PLAN-ID'},\n",
       "  {u'network_tier': u'PHP-SELECT',\n",
       "   u'plan_id': u'50816IN0230008',\n",
       "   u'plan_id_type': u'HIOS-PLAN-ID'},\n",
       "  {u'network_tier': u'PHP-SELECT',\n",
       "   u'plan_id': u'50816IN0230010',\n",
       "   u'plan_id_type': u'HIOS-PLAN-ID'},\n",
       "  {u'network_tier': u'PHP-SELECT',\n",
       "   u'plan_id': u'50816IN0230012',\n",
       "   u'plan_id_type': u'HIOS-PLAN-ID'}],\n",
       " u'speciality': [u'DERMATOLOGY'],\n",
       " u'type': u'INDIVIDUAL'}"
      ]
     },
     "execution_count": 15,
     "metadata": {},
     "output_type": "execute_result"
    }
   ],
   "source": [
    "prov_col.find_one({'facility_name':{'$exists':True}})"
   ]
  },
  {
   "cell_type": "code",
   "execution_count": 42,
   "metadata": {
    "collapsed": false,
    "scrolled": false
   },
   "outputs": [
    {
     "name": "stdout",
     "output_type": "stream",
     "text": [
      "50816IN0230008 630 {u'count': 10, u'location': 10, u'key': u'CARDIOVASCULAR DISEASE|CHINESE|'}\n",
      "50816IN0200025 630 {u'count': 5, u'location': 5, u'key': u'HEMATOLOGY/ONCOLOGY| TELUGU|'}\n"
     ]
    }
   ],
   "source": [
    "for p in getProviderStateForPlans(prov_col, ['50816IN0200025','50816IN0230008']):\n",
    "    print p['_id'], len(p['plan_states']), p['plan_states'][180]"
   ]
  },
  {
   "cell_type": "code",
   "execution_count": 49,
   "metadata": {
    "collapsed": false
   },
   "outputs": [
    {
     "name": "stdout",
     "output_type": "stream",
     "text": [
      "3286\n",
      "987\n"
     ]
    }
   ],
   "source": [
    "for p in getProviderListForPlans(prov_col, ['23307AZ0400014','97667AZ0110007']):\n",
    "    print len(p['npi'])"
   ]
  },
  {
   "cell_type": "code",
   "execution_count": 48,
   "metadata": {
    "collapsed": false
   },
   "outputs": [
    {
     "data": {
      "text/plain": [
       "106230"
      ]
     },
     "execution_count": 48,
     "metadata": {},
     "output_type": "execute_result"
    }
   ],
   "source": [
    "all_npi = prov_col.find({'plans.plan_id':{'$in':az_plan}}).distinct('npi')\n",
    "len(all_npi)"
   ]
  },
  {
   "cell_type": "code",
   "execution_count": null,
   "metadata": {
    "collapsed": false
   },
   "outputs": [],
   "source": []
  }
 ],
 "metadata": {
  "kernelspec": {
   "display_name": "Python 2",
   "language": "python",
   "name": "python2"
  },
  "language_info": {
   "codemirror_mode": {
    "name": "ipython",
    "version": 2
   },
   "file_extension": ".py",
   "mimetype": "text/x-python",
   "name": "python",
   "nbconvert_exporter": "python",
   "pygments_lexer": "ipython2",
   "version": "2.7.9"
  }
 },
 "nbformat": 4,
 "nbformat_minor": 0
}
