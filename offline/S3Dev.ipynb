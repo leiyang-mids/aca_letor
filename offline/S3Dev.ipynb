{
 "cells": [
  {
   "cell_type": "code",
   "execution_count": 1,
   "metadata": {
    "collapsed": false
   },
   "outputs": [],
   "source": [
    "import boto3\n",
    "s3 = boto3.resource('s3', 'us-east-1')\n",
    "bucket = s3.Bucket('w210.data')\n"
   ]
  },
  {
   "cell_type": "code",
   "execution_count": 31,
   "metadata": {
    "collapsed": false
   },
   "outputs": [],
   "source": [
    "for obj in bucket.objects.all():\n",
    "    if obj.key == 'feature/SD_18_26728.pickle':\n",
    "        test = obj\n",
    "        obj.Acl().put(ACL='public-read')"
   ]
  },
  {
   "cell_type": "code",
   "execution_count": 29,
   "metadata": {
    "collapsed": false
   },
   "outputs": [],
   "source": [
    "# abc=test.Object()\n",
    "?abc.Acl"
   ]
  },
  {
   "cell_type": "code",
   "execution_count": 12,
   "metadata": {
    "collapsed": false
   },
   "outputs": [
    {
     "name": "stdout",
     "output_type": "stream",
     "text": [
      "delete done!\n"
     ]
    }
   ],
   "source": [
    "for obj in bucket.objects.filter():\n",
    "    if obj.key == 'online/runtime_data_OR.pickle':\n",
    "        obj.delete()\n",
    "        print 'delete done!'"
   ]
  },
  {
   "cell_type": "code",
   "execution_count": 53,
   "metadata": {
    "collapsed": false
   },
   "outputs": [
    {
     "name": "stdout",
     "output_type": "stream",
     "text": [
      "feature/UT_74_19243.pickle\n"
     ]
    }
   ],
   "source": [
    "for o in bucket.objects.all():\n",
    "    if o.key.startswith('feature/UT'):\n",
    "        print o.key\n",
    "        break\n",
    "else:\n",
    "    print 'no found'"
   ]
  },
  {
   "cell_type": "code",
   "execution_count": 58,
   "metadata": {
    "collapsed": true
   },
   "outputs": [],
   "source": [
    "bucket.upload_file('UT_74_19243.pickle', 'feature/UT_74_19243.pickle')"
   ]
  },
  {
   "cell_type": "code",
   "execution_count": 48,
   "metadata": {
    "collapsed": false
   },
   "outputs": [],
   "source": [
    "bucket.download_file('online/runtime_data_OR.pickle', 'down_test2')"
   ]
  },
  {
   "cell_type": "code",
   "execution_count": 55,
   "metadata": {
    "collapsed": false
   },
   "outputs": [],
   "source": [
    "import pickle\n",
    "with open('UT_74_19243.pickle') as f:\n",
    "    feature, plans = pickle.load(f)"
   ]
  },
  {
   "cell_type": "code",
   "execution_count": 56,
   "metadata": {
    "collapsed": false
   },
   "outputs": [
    {
     "name": "stdout",
     "output_type": "stream",
     "text": [
      "Once deleted, variables cannot be recovered. Proceed (y/[n])? y\n"
     ]
    }
   ],
   "source": [
    "%reset"
   ]
  },
  {
   "cell_type": "code",
   "execution_count": 60,
   "metadata": {
    "collapsed": false
   },
   "outputs": [],
   "source": [
    "import pickle\n",
    "with open('training/UT_2.pickle') as f:\n",
    "    plans, rank = pickle.load(f)"
   ]
  },
  {
   "cell_type": "code",
   "execution_count": 2,
   "metadata": {
    "collapsed": false
   },
   "outputs": [
    {
     "name": "stdout",
     "output_type": "stream",
     "text": [
      "using aws Mongo, total drug: 46206, total plan: 6035, total provider: 8799098\n"
     ]
    }
   ],
   "source": [
    "from pymongo import MongoClient\n",
    "local = False\n",
    "if local:\n",
    "    client = MongoClient('fc8iasm01', 27017)\n",
    "    plan_col = client.aca.plan\n",
    "    drug_col = client.aca.drug\n",
    "else:\n",
    "    client = MongoClient('ec2-52-53-230-141.us-west-1.compute.amazonaws.com', 27017)\n",
    "    plan_col = client.plans.plans\n",
    "    drug_col = client.formularies.drugs\n",
    "    prov_col = client.providers.providers\n",
    "    faci_col = client.providers.facilities\n",
    "\n",
    "all_plan = drug_col.distinct('plans.plan_id')\n",
    "all_drug = drug_col.distinct('rxnorm_id')\n",
    "\n",
    "print 'using %s Mongo, total drug: %d, total plan: %d, total provider: %d' %(\n",
    "     'local' if local else 'aws', len(all_drug), len(all_plan), prov_col.count())"
   ]
  },
  {
   "cell_type": "code",
   "execution_count": 3,
   "metadata": {
    "collapsed": false
   },
   "outputs": [
    {
     "name": "stdout",
     "output_type": "stream",
     "text": [
      "find plan from 43 states: AK, AL, AR, AZ, CO, DE, FL, GA, HI, IA, IL, IN, KS, KY, LA, MA, ME, MI, MN, MO, MS, MT, NC, ND, NE, NH, NJ, NM, NV, OH, OK, OR, PA, SC, SD, TN, TX, UT, VA, WA, WI, WV, WY\n"
     ]
    }
   ],
   "source": [
    "import numpy as np\n",
    "state_ids = np.unique([i[5:7] for i in all_plan])\n",
    "print 'find plan from %d states: %s' %(len(state_ids), ', '.join(state_ids))"
   ]
  },
  {
   "cell_type": "code",
   "execution_count": 17,
   "metadata": {
    "collapsed": true
   },
   "outputs": [],
   "source": [
    "state_plan = [i for i in all_plan if 'SD' in i]"
   ]
  },
  {
   "cell_type": "code",
   "execution_count": 10,
   "metadata": {
    "collapsed": false
   },
   "outputs": [
    {
     "data": {
      "text/plain": [
       "array(['Alzheimer', 'Glaucoma', 'Hypertension', 'Obesophobia', 'diabetes'], \n",
       "      dtype='|S12')"
      ]
     },
     "execution_count": 10,
     "metadata": {},
     "output_type": "execute_result"
    }
   ],
   "source": [
    "a=['Glaucoma', 'diabetes Obesophobia', 'Obesophobia diabetes Alzheimer', 'Glaucoma diabetes Alzheimer Hypertension', 'Glaucoma Alzheimer diabetes Obesophobia Hypertension']\n",
    "np.unique(' '.join(a).split())"
   ]
  },
  {
   "cell_type": "code",
   "execution_count": 5,
   "metadata": {
    "collapsed": false
   },
   "outputs": [],
   "source": [
    "import pickle\n",
    "with open('plan_ids.pickle', 'w') as f:\n",
    "    pickle.dump([all_plan], f)"
   ]
  },
  {
   "cell_type": "code",
   "execution_count": 11,
   "metadata": {
    "collapsed": true
   },
   "outputs": [],
   "source": [
    "sim_health = np.array(['Alzheimer', 'Glaucoma', 'Hypertension', 'Obesophobia', 'diabetes'])"
   ]
  },
  {
   "cell_type": "code",
   "execution_count": 31,
   "metadata": {
    "collapsed": false
   },
   "outputs": [
    {
     "data": {
      "text/plain": [
       "3"
      ]
     },
     "execution_count": 31,
     "metadata": {},
     "output_type": "execute_result"
    }
   ],
   "source": [
    "np.random.randint(low=1,high=5)"
   ]
  },
  {
   "cell_type": "code",
   "execution_count": 47,
   "metadata": {
    "collapsed": false
   },
   "outputs": [],
   "source": [
    "def simulate_clicks(n_query = 8, n_click_max = 8):\n",
    "    '''\n",
    "    '''\n",
    "\n",
    "    with open('plan_ids.pickle') as f:\n",
    "        all_plan = pickle.load(f)\n",
    "\n",
    "    # sim health\n",
    "    sim_health = np.array(['Alzheimer', 'Glaucoma', 'Hypertension', 'Obesophobia', 'diabetes'])\n",
    "\n",
    "    # get states\n",
    "    sim_data = []\n",
    "    state_ids = np.unique([i[5:7] for i in all_plan[0]])\n",
    "    for state in state_ids:\n",
    "        state_plan = np.array([i for i in all_plan[0] if state in i])\n",
    "        n_plan = len(state_plan)\n",
    "#         print 'state %s has %d plans' %(state, n_plan)\n",
    "        # simulate query        \n",
    "        for i in range(n_query):\n",
    "            health = ' '.join(sim_health[np.random.permutation(sim_health.size)[0:i+1]])\n",
    "            sim_rank = state_plan[np.random.permutation(n_plan)]\n",
    "            sim_click = state_plan[np.random.permutation(n_plan)][0:np.random.randint(low=1, high=min(n_plan,n_click_max))]\n",
    "            sim_data.append((state, health, sim_rank, sim_click))\n",
    "\n",
    "    rtn_type = [('state','S2'), ('query','S512'), ('ranks',list), ('clicks',list)]\n",
    "    return np.array(sim_data, dtype=rtn_type)"
   ]
  },
  {
   "cell_type": "code",
   "execution_count": 56,
   "metadata": {
    "collapsed": false
   },
   "outputs": [
    {
     "data": {
      "text/plain": [
       "('AZ', 'diabetes Hypertension Glaucoma Obesophobia', [u'53901AZ1320003', u'53901AZ1300003', u'70239AZ0010054', u'53901AZ1150003', u'97667AZ0110005', u'51485AZ0160031', u'91450AZ0160005', u'53901AZ1090003', u'98971AZ0010066', u'53901AZ1090004', u'65441AZ0080002', u'53901AZ0790007', u'70239AZ0010063', u'23307AZ0400015', u'98971AZ0020009', u'65441AZ0050003', u'91450AZ0080026', u'53901AZ1300001', u'78611AZ0060002', u'53901AZ1300010', u'53901AZ0810001', u'53901AZ0810004', u'70239AZ0010071', u'53901AZ0800002', u'53901AZ1300002', u'98971AZ0010065', u'91450AZ0090026', u'53901AZ1350001', u'53901AZ0800005', u'78611AZ0060003', u'65441AZ0080001', u'70239AZ0010057', u'53901AZ1080004', u'70239AZ0010056', u'70239AZ0010069', u'65441AZ0100002', u'98971AZ0020002', u'91450AZ0080031', u'53901AZ0790004', u'70239AZ0010076', u'98971AZ0020005', u'70239AZ0010045', u'53901AZ0810003', u'78611AZ0060005', u'98971AZ0020004', u'97667AZ0110004', u'51485AZ0160005', u'53901AZ1080001', u'53901AZ0810002', u'91450AZ0080029', u'53901AZ1330001', u'53901AZ1320004', u'53901AZ0790001', u'70239AZ0010066', u'53901AZ1350003', u'91450AZ0080032', u'97667AZ0110008', u'53901AZ0800001', u'53901AZ1090001', u'53901AZ1140001', u'97667AZ0110003', u'53901AZ1310001', u'53901AZ1300005', u'51485AZ0160004', u'97667AZ0110007', u'53901AZ0790006', u'51485AZ0160007', u'70239AZ0010072', u'53901AZ1310003', u'65441AZ0070001', u'98971AZ0020008', u'91450AZ0090025', u'65441AZ0050002', u'53901AZ0790003', u'65441AZ0100001', u'98971AZ0020010', u'98971AZ0020003', u'53901AZ0790012', u'53901AZ1140004', u'53901AZ1150005', u'65441AZ0070003', u'78611AZ0060004', u'23307AZ0400011', u'53901AZ0820003', u'70239AZ0010058', u'70239AZ0010067', u'53901AZ1300008', u'70239AZ0010074', u'53901AZ1340001', u'23307AZ0400013', u'65441AZ0090003', u'70239AZ0010080', u'78611AZ0060007', u'23307AZ0400002', u'53901AZ1320002', u'53901AZ0820001', u'23307AZ0400012', u'70239AZ0010052', u'70239AZ0010064', u'53901AZ1340002', u'78611AZ0060001', u'53901AZ0790002', u'70239AZ0010059', u'70239AZ0010070', u'53901AZ1170001', u'53901AZ1140003', u'70239AZ0010053', u'53901AZ1300006', u'23307AZ0400004', u'91450AZ0080030', u'65441AZ0050004', u'53901AZ1150001', u'53901AZ1320005', u'23307AZ0400003', u'53901AZ1310004', u'53901AZ1330002', u'70239AZ0010079', u'65441AZ0090002', u'91450AZ0080027', u'65441AZ0070002', u'53901AZ1310005', u'53901AZ1310002', u'53901AZ0800003', u'70239AZ0010075', u'53901AZ1300004', u'53901AZ0800006', u'65441AZ0060002', u'70239AZ0010077', u'53901AZ0790009', u'53901AZ0820002', u'53901AZ1310006', u'65441AZ0050001', u'70239AZ0010055', u'70239AZ0010068', u'53901AZ0790010', u'98971AZ0020011', u'97667AZ0110006', u'65441AZ0090001', u'70239AZ0010047', u'53901AZ1300011', u'53901AZ0790008', u'51485AZ0160032', u'53901AZ0810005', u'53901AZ0800004', u'53901AZ1330003', u'65441AZ0070004', u'70239AZ0010078', u'70239AZ0010049', u'23307AZ0400001', u'53901AZ1300009', u'23307AZ0400005', u'53901AZ1080003', u'53901AZ1180001', u'53901AZ1360001', u'65441AZ0060001', u'53901AZ0790005', u'53901AZ1350002', u'51485AZ0160008', u'91450AZ0160019', u'70239AZ0010048', u'53901AZ1140005', u'53901AZ1150004', u'70239AZ0010046', u'53901AZ1300007', u'53901AZ1320001', u'78611AZ0060006', u'65441AZ0090004', u'70239AZ0010065', u'97667AZ0110009', u'51485AZ0160003', u'23307AZ0400014', u'98971AZ0020012', u'53901AZ1300012', u'98971AZ0020007', u'53901AZ0790011', u'98971AZ0020001', u'70239AZ0010050', u'70239AZ0010051'], [u'53901AZ0790002', u'53901AZ1320001', u'70239AZ0010048', u'70239AZ0010054', u'53901AZ1310001', u'70239AZ0010058'])"
      ]
     },
     "execution_count": 56,
     "metadata": {},
     "output_type": "execute_result"
    }
   ],
   "source": [
    "# sdata = simulate_clicks()\n",
    "sdata[27]"
   ]
  }
 ],
 "metadata": {
  "kernelspec": {
   "display_name": "Python 2",
   "language": "python",
   "name": "python2"
  },
  "language_info": {
   "codemirror_mode": {
    "name": "ipython",
    "version": 2
   },
   "file_extension": ".py",
   "mimetype": "text/x-python",
   "name": "python",
   "nbconvert_exporter": "python",
   "pygments_lexer": "ipython2",
   "version": "2.7.9"
  }
 },
 "nbformat": 4,
 "nbformat_minor": 0
}
