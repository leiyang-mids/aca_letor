{
 "cells": [
  {
   "cell_type": "code",
   "execution_count": 1,
   "metadata": {
    "collapsed": false
   },
   "outputs": [],
   "source": [
    "import boto3\n",
    "s3 = boto3.resource('s3', 'us-east-1')\n",
    "bucket = s3.Bucket('w210.data')\n"
   ]
  },
  {
   "cell_type": "code",
   "execution_count": 31,
   "metadata": {
    "collapsed": false
   },
   "outputs": [],
   "source": [
    "for obj in bucket.objects.all():\n",
    "    if obj.key == 'feature/SD_18_26728.pickle':\n",
    "        test = obj\n",
    "        obj.Acl().put(ACL='public-read')"
   ]
  },
  {
   "cell_type": "code",
   "execution_count": 29,
   "metadata": {
    "collapsed": false
   },
   "outputs": [],
   "source": [
    "# abc=test.Object()\n",
    "?abc.Acl"
   ]
  },
  {
   "cell_type": "code",
   "execution_count": 12,
   "metadata": {
    "collapsed": false
   },
   "outputs": [
    {
     "name": "stdout",
     "output_type": "stream",
     "text": [
      "delete done!\n"
     ]
    }
   ],
   "source": [
    "for obj in bucket.objects.filter():\n",
    "    if obj.key == 'online/runtime_data_OR.pickle':\n",
    "        obj.delete()\n",
    "        print 'delete done!'"
   ]
  },
  {
   "cell_type": "code",
   "execution_count": 53,
   "metadata": {
    "collapsed": false
   },
   "outputs": [
    {
     "name": "stdout",
     "output_type": "stream",
     "text": [
      "feature/UT_74_19243.pickle\n"
     ]
    }
   ],
   "source": [
    "for o in bucket.objects.all():\n",
    "    if o.key.startswith('feature/UT'):\n",
    "        print o.key\n",
    "        break\n",
    "else:\n",
    "    print 'no found'"
   ]
  },
  {
   "cell_type": "code",
   "execution_count": 58,
   "metadata": {
    "collapsed": true
   },
   "outputs": [],
   "source": [
    "bucket.upload_file('UT_74_19243.pickle', 'feature/UT_74_19243.pickle')"
   ]
  },
  {
   "cell_type": "code",
   "execution_count": 48,
   "metadata": {
    "collapsed": false
   },
   "outputs": [],
   "source": [
    "bucket.download_file('online/runtime_data_OR.pickle', 'down_test2')"
   ]
  },
  {
   "cell_type": "code",
   "execution_count": 55,
   "metadata": {
    "collapsed": false
   },
   "outputs": [],
   "source": [
    "import pickle\n",
    "with open('UT_74_19243.pickle') as f:\n",
    "    feature, plans = pickle.load(f)"
   ]
  },
  {
   "cell_type": "code",
   "execution_count": 56,
   "metadata": {
    "collapsed": false
   },
   "outputs": [
    {
     "name": "stdout",
     "output_type": "stream",
     "text": [
      "Once deleted, variables cannot be recovered. Proceed (y/[n])? y\n"
     ]
    }
   ],
   "source": [
    "%reset"
   ]
  },
  {
   "cell_type": "code",
   "execution_count": 60,
   "metadata": {
    "collapsed": false
   },
   "outputs": [],
   "source": [
    "import pickle\n",
    "with open('training/UT_2.pickle') as f:\n",
    "    plans, rank = pickle.load(f)"
   ]
  },
  {
   "cell_type": "code",
   "execution_count": 2,
   "metadata": {
    "collapsed": false
   },
   "outputs": [
    {
     "name": "stdout",
     "output_type": "stream",
     "text": [
      "using aws Mongo, total drug: 46206, total plan: 6035, total provider: 8799098\n"
     ]
    }
   ],
   "source": [
    "from pymongo import MongoClient\n",
    "local = False\n",
    "if local:\n",
    "    client = MongoClient('fc8iasm01', 27017)\n",
    "    plan_col = client.aca.plan\n",
    "    drug_col = client.aca.drug\n",
    "else:\n",
    "    client = MongoClient('ec2-52-53-230-141.us-west-1.compute.amazonaws.com', 27017)\n",
    "    plan_col = client.plans.plans\n",
    "    drug_col = client.formularies.drugs\n",
    "    prov_col = client.providers.providers\n",
    "    faci_col = client.providers.facilities\n",
    "\n",
    "all_plan = drug_col.distinct('plans.plan_id')\n",
    "all_drug = drug_col.distinct('rxnorm_id')\n",
    "\n",
    "print 'using %s Mongo, total drug: %d, total plan: %d, total provider: %d' %(\n",
    "     'local' if local else 'aws', len(all_drug), len(all_plan), prov_col.count())"
   ]
  },
  {
   "cell_type": "code",
   "execution_count": 3,
   "metadata": {
    "collapsed": false
   },
   "outputs": [
    {
     "name": "stdout",
     "output_type": "stream",
     "text": [
      "find plan from 43 states: AK, AL, AR, AZ, CO, DE, FL, GA, HI, IA, IL, IN, KS, KY, LA, MA, ME, MI, MN, MO, MS, MT, NC, ND, NE, NH, NJ, NM, NV, OH, OK, OR, PA, SC, SD, TN, TX, UT, VA, WA, WI, WV, WY\n"
     ]
    }
   ],
   "source": [
    "import numpy as np\n",
    "state_ids = np.unique([i[5:7] for i in all_plan])\n",
    "print 'find plan from %d states: %s' %(len(state_ids), ', '.join(state_ids))"
   ]
  },
  {
   "cell_type": "code",
   "execution_count": 17,
   "metadata": {
    "collapsed": true
   },
   "outputs": [],
   "source": [
    "state_plan = [i for i in all_plan if 'SD' in i]"
   ]
  },
  {
   "cell_type": "code",
   "execution_count": 10,
   "metadata": {
    "collapsed": false
   },
   "outputs": [
    {
     "data": {
      "text/plain": [
       "array(['Alzheimer', 'Glaucoma', 'Hypertension', 'Obesophobia', 'diabetes'], \n",
       "      dtype='|S12')"
      ]
     },
     "execution_count": 10,
     "metadata": {},
     "output_type": "execute_result"
    }
   ],
   "source": [
    "a=['Glaucoma', 'diabetes Obesophobia', 'Obesophobia diabetes Alzheimer', 'Glaucoma diabetes Alzheimer Hypertension', \n",
    "   'Glaucoma Alzheimer diabetes Obesophobia Hypertension']\n",
    "np.unique(' '.join(a).split())"
   ]
  },
  {
   "cell_type": "code",
   "execution_count": 5,
   "metadata": {
    "collapsed": false
   },
   "outputs": [],
   "source": [
    "import pickle\n",
    "with open('plan_ids.pickle', 'w') as f:\n",
    "    pickle.dump([all_plan], f)"
   ]
  },
  {
   "cell_type": "code",
   "execution_count": 72,
   "metadata": {
    "collapsed": false
   },
   "outputs": [],
   "source": [
    "sim_health = np.array(['Alzheimer', 'Glaucoma', 'Hypertension', 'Obesophobia', 'diabetes'])"
   ]
  },
  {
   "cell_type": "code",
   "execution_count": 1,
   "metadata": {
    "collapsed": false
   },
   "outputs": [],
   "source": [
    "from sklearn.feature_extraction.text import CountVectorizer\n",
    "import numpy as np\n",
    "from scipy.sparse import *"
   ]
  },
  {
   "cell_type": "code",
   "execution_count": 2,
   "metadata": {
    "collapsed": false
   },
   "outputs": [],
   "source": [
    "health = np.array(['Alzheimer', 'Glaucoma', 'Hypertension', 'Obesophobia', 'diabetes'])\n",
    "queries = [' '.join(health[np.random.permutation(5)][0:np.random.randint(low=1,high=5)]) for i in range(8)]"
   ]
  },
  {
   "cell_type": "code",
   "execution_count": 27,
   "metadata": {
    "collapsed": false
   },
   "outputs": [],
   "source": [
    "characterizer = CountVectorizer()\n",
    "encoded_query = characterizer.fit_transform(queries)"
   ]
  },
  {
   "cell_type": "code",
   "execution_count": 28,
   "metadata": {
    "collapsed": false
   },
   "outputs": [
    {
     "data": {
      "text/plain": [
       "{u'alzheimer': 0,\n",
       " u'diabetes': 1,\n",
       " u'glaucoma': 2,\n",
       " u'hypertension': 3,\n",
       " u'obesophobia': 4}"
      ]
     },
     "execution_count": 28,
     "metadata": {},
     "output_type": "execute_result"
    }
   ],
   "source": [
    "characterizer.vocabulary_"
   ]
  },
  {
   "cell_type": "code",
   "execution_count": 29,
   "metadata": {
    "collapsed": false
   },
   "outputs": [
    {
     "data": {
      "text/plain": [
       "['Alzheimer Hypertension Obesophobia diabetes',\n",
       " 'diabetes Alzheimer Hypertension',\n",
       " 'diabetes',\n",
       " 'Alzheimer',\n",
       " 'Hypertension diabetes Alzheimer Obesophobia',\n",
       " 'Obesophobia Hypertension diabetes',\n",
       " 'Hypertension Alzheimer',\n",
       " 'Alzheimer Glaucoma Obesophobia']"
      ]
     },
     "execution_count": 29,
     "metadata": {},
     "output_type": "execute_result"
    }
   ],
   "source": [
    "queries"
   ]
  },
  {
   "cell_type": "code",
   "execution_count": 30,
   "metadata": {
    "collapsed": false
   },
   "outputs": [
    {
     "data": {
      "text/plain": [
       "array([[1, 1, 0, 1, 1],\n",
       "       [1, 1, 0, 1, 0],\n",
       "       [0, 1, 0, 0, 0],\n",
       "       [1, 0, 0, 0, 0],\n",
       "       [1, 1, 0, 1, 1],\n",
       "       [0, 1, 0, 1, 1],\n",
       "       [1, 0, 0, 1, 0],\n",
       "       [1, 0, 1, 0, 1]], dtype=int64)"
      ]
     },
     "execution_count": 30,
     "metadata": {},
     "output_type": "execute_result"
    }
   ],
   "source": [
    "encoded_query.toarray()"
   ]
  },
  {
   "cell_type": "code",
   "execution_count": 6,
   "metadata": {
    "collapsed": false
   },
   "outputs": [],
   "source": [
    "from query_characterizer import *\n",
    "from logger import *\n",
    "log=logger('test')\n",
    "log.start()"
   ]
  },
  {
   "cell_type": "code",
   "execution_count": 14,
   "metadata": {
    "collapsed": false
   },
   "outputs": [],
   "source": [
    "clu, voc, cen = query_characterizer(np.array(queries),log)"
   ]
  },
  {
   "cell_type": "code",
   "execution_count": 15,
   "metadata": {
    "collapsed": false
   },
   "outputs": [],
   "source": [
    "cen1=[list(c) for c in cen]\n",
    "voc1 = [None]*len(voc)\n",
    "for k,v in voc.items():\n",
    "    voc1[v] = k"
   ]
  },
  {
   "cell_type": "code",
   "execution_count": 39,
   "metadata": {
    "collapsed": false
   },
   "outputs": [
    {
     "data": {
      "text/plain": [
       "[u'alzheimer', u'diabetes', u'glaucoma', u'hypertension', u'obesophobia']"
      ]
     },
     "execution_count": 39,
     "metadata": {},
     "output_type": "execute_result"
    }
   ],
   "source": [
    "voc1"
   ]
  },
  {
   "cell_type": "code",
   "execution_count": 20,
   "metadata": {
    "collapsed": false
   },
   "outputs": [],
   "source": [
    "import pickle\n",
    "with open('sim_runtime.pickle', 'w') as f:\n",
    "    pickle.dump([voc1, cen1], f)"
   ]
  },
  {
   "cell_type": "code",
   "execution_count": 22,
   "metadata": {
    "collapsed": false
   },
   "outputs": [],
   "source": [
    "\n",
    "with open('sim_runtime.pickle') as f:\n",
    "    [vocabulary, centroids] = pickle.load(f)\n",
    "\n",
    "from letor_online import *\n",
    "letor = letor_online(vocabulary, centroids)"
   ]
  },
  {
   "cell_type": "code",
   "execution_count": 34,
   "metadata": {
    "collapsed": false
   },
   "outputs": [
    {
     "data": {
      "text/plain": [
       "[0, 0, 1.0, 0, 0, 0, 0]"
      ]
     },
     "execution_count": 34,
     "metadata": {},
     "output_type": "execute_result"
    }
   ],
   "source": [
    "letor.get_rank_weight('Alzheimer'.upper())"
   ]
  },
  {
   "cell_type": "code",
   "execution_count": 40,
   "metadata": {
    "collapsed": false
   },
   "outputs": [
    {
     "data": {
      "text/plain": [
       "[[0.0, 1.0, 0.0, 0.0, 0.0],\n",
       " [0.57735026918962584, 0.0, 0.57735026918962584, 0.0, 0.57735026918962584],\n",
       " [1.0, 0.0, 0.0, 0.0, 0.0],\n",
       " [0.0, 0.57735026918962584, 0.0, 0.57735026918962584, 0.57735026918962584],\n",
       " [0.5, 0.5, 0.0, 0.5, 0.5],\n",
       " [0.70710678118654746, 0.0, 0.0, 0.70710678118654746, 0.0],\n",
       " [0.57735026918962584, 0.57735026918962584, 0.0, 0.57735026918962584, 0.0]]"
      ]
     },
     "execution_count": 40,
     "metadata": {},
     "output_type": "execute_result"
    }
   ],
   "source": [
    "centroids"
   ]
  },
  {
   "cell_type": "code",
   "execution_count": 108,
   "metadata": {
    "collapsed": false
   },
   "outputs": [
    {
     "name": "stdout",
     "output_type": "stream",
     "text": [
      "Once deleted, variables cannot be recovered. Proceed (y/[n])? y\n"
     ]
    }
   ],
   "source": [
    "%reset"
   ]
  }
 ],
 "metadata": {
  "kernelspec": {
   "display_name": "Python 2",
   "language": "python",
   "name": "python2"
  },
  "language_info": {
   "codemirror_mode": {
    "name": "ipython",
    "version": 2
   },
   "file_extension": ".py",
   "mimetype": "text/x-python",
   "name": "python",
   "nbconvert_exporter": "python",
   "pygments_lexer": "ipython2",
   "version": "2.7.10"
  }
 },
 "nbformat": 4,
 "nbformat_minor": 0
}
