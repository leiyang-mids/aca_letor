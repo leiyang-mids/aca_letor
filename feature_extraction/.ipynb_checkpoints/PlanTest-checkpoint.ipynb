{
 "cells": [
  {
   "cell_type": "code",
   "execution_count": 1,
   "metadata": {
    "collapsed": true
   },
   "outputs": [],
   "source": [
    "# from sklearn.preprocessing import OneHotEncoder\n",
    "from pymongo import MongoClient, DESCENDING\n",
    "# from zipfile import ZipFile, ZIP_DEFLATED\n",
    "from scipy.sparse import *\n",
    "from scipy import stats\n",
    "# from sklearn import svm\n",
    "# from sets import Set\n",
    "import numpy as np\n",
    "import json, sys, os, time, re, datetime, itertools, pickle\n",
    "\n",
    "def logTime():\n",
    "    return str(datetime.datetime.now())"
   ]
  },
  {
   "cell_type": "code",
   "execution_count": 2,
   "metadata": {
    "collapsed": false
   },
   "outputs": [
    {
     "name": "stdout",
     "output_type": "stream",
     "text": [
      "2016-07-30 21:03:52.529140: using aws Mongo, total drug: 46206, total plan: 6035, total provider: 8799098\n"
     ]
    }
   ],
   "source": [
    "local = False\n",
    "if local:\n",
    "    client = MongoClient('fc8iasm01', 27017)\n",
    "    plan_col = client.aca.plan\n",
    "    drug_col = client.aca.drug\n",
    "else:\n",
    "    client = MongoClient('ec2-52-53-173-200.us-west-1.compute.amazonaws.com', 27017)\n",
    "    plan_col = client.plans.plans\n",
    "    drug_col = client.formularies.drugs\n",
    "    prov_col = client.providers.providers\n",
    "    faci_col = client.providers.facilities\n",
    "\n",
    "all_plan = drug_col.distinct('plans.plan_id')\n",
    "all_drug = drug_col.distinct('rxnorm_id')\n",
    "\n",
    "print '%s: using %s Mongo, total drug: %d, total plan: %d, total provider: %d' %(\n",
    "    logTime(), 'local' if local else 'aws', len(all_drug), len(all_plan), prov_col.count())\n",
    "# client.formularies.scollection_names()\n",
    "# client.providers.collection_names()"
   ]
  },
  {
   "cell_type": "code",
   "execution_count": 3,
   "metadata": {
    "collapsed": false
   },
   "outputs": [
    {
     "data": {
      "text/plain": [
       "7679"
      ]
     },
     "execution_count": 3,
     "metadata": {},
     "output_type": "execute_result"
    }
   ],
   "source": [
    "all_plan2 = plan_col.distinct('plan_id')\n",
    "len(all_plan2)"
   ]
  },
  {
   "cell_type": "code",
   "execution_count": 19,
   "metadata": {
    "collapsed": false
   },
   "outputs": [
    {
     "data": {
      "text/plain": [
       "207"
      ]
     },
     "execution_count": 19,
     "metadata": {},
     "output_type": "execute_result"
    }
   ],
   "source": [
    "az_plan = [i for i in all_plan2 if 'AZ' in i]\n",
    "len(az_plan)"
   ]
  },
  {
   "cell_type": "code",
   "execution_count": 5,
   "metadata": {
    "collapsed": false
   },
   "outputs": [
    {
     "data": {
      "text/plain": [
       "178"
      ]
     },
     "execution_count": 5,
     "metadata": {},
     "output_type": "execute_result"
    }
   ],
   "source": [
    "len([i for i in all_plan if 'AZ' in i])"
   ]
  },
  {
   "cell_type": "code",
   "execution_count": 11,
   "metadata": {
    "collapsed": false
   },
   "outputs": [
    {
     "data": {
      "text/plain": [
       "214"
      ]
     },
     "execution_count": 11,
     "metadata": {},
     "output_type": "execute_result"
    }
   ],
   "source": [
    "all_plan3 = prov_col.distinct('plans.plan_id')\n",
    "az_plan = [i for i in all_plan3 if 'AZ' in i]"
   ]
  },
  {
   "cell_type": "code",
   "execution_count": 44,
   "metadata": {
    "collapsed": false
   },
   "outputs": [],
   "source": [
    "%reload_ext autoreload\n",
    "%autoreload 2\n",
    "from query_drug_feature import *\n",
    "from query_plan_feature import *\n",
    "from query_provider_feature import *"
   ]
  },
  {
   "cell_type": "code",
   "execution_count": 24,
   "metadata": {
    "collapsed": false
   },
   "outputs": [],
   "source": [
    "prov_state = getProviderAllStates(prov_col, az_plan)"
   ]
  },
  {
   "cell_type": "code",
   "execution_count": 25,
   "metadata": {
    "collapsed": false
   },
   "outputs": [
    {
     "data": {
      "text/plain": [
       "5446"
      ]
     },
     "execution_count": 25,
     "metadata": {},
     "output_type": "execute_result"
    }
   ],
   "source": [
    "len(prov_state)"
   ]
  },
  {
   "cell_type": "code",
   "execution_count": 28,
   "metadata": {
    "collapsed": false
   },
   "outputs": [
    {
     "data": {
      "text/plain": [
       "u'Pediatric Dentist|Portuguese|'"
      ]
     },
     "execution_count": 28,
     "metadata": {},
     "output_type": "execute_result"
    }
   ],
   "source": [
    "prov_state[2000]"
   ]
  },
  {
   "cell_type": "code",
   "execution_count": 15,
   "metadata": {
    "collapsed": false
   },
   "outputs": [
    {
     "data": {
      "text/plain": [
       "{u'_id': ObjectId('577606dcc421d272dcd7deaa'),\n",
       " u'accepting': u'accepting',\n",
       " u'addresses': [{u'address': u'2235 DUBOIS DR',\n",
       "   u'address_2': u'',\n",
       "   u'city': u'WARSAW',\n",
       "   u'phone': u'2604232567',\n",
       "   u'state': u'IN',\n",
       "   u'zip': u'46580'}],\n",
       " u'facility_name': u'',\n",
       " u'facility_type': [],\n",
       " u'gender': u'Male',\n",
       " u'languages': [u'SPANISH'],\n",
       " u'last_updated_on': u'2016-06-18',\n",
       " u'name': {u'first': u'ALAN R', u'last': u'GILBERT MD'},\n",
       " u'npi': u'1215961677',\n",
       " u'plans': [{u'network_tier': u'PHP-SELECT',\n",
       "   u'plan_id': u'50816IN0200001',\n",
       "   u'plan_id_type': u'HIOS-PLAN-ID'},\n",
       "  {u'network_tier': u'PHP-SELECT',\n",
       "   u'plan_id': u'50816IN0200004',\n",
       "   u'plan_id_type': u'HIOS-PLAN-ID'},\n",
       "  {u'network_tier': u'PHP-SELECT',\n",
       "   u'plan_id': u'50816IN0200007',\n",
       "   u'plan_id_type': u'HIOS-PLAN-ID'},\n",
       "  {u'network_tier': u'PHP-SELECT',\n",
       "   u'plan_id': u'50816IN0200010',\n",
       "   u'plan_id_type': u'HIOS-PLAN-ID'},\n",
       "  {u'network_tier': u'PHP-SELECT',\n",
       "   u'plan_id': u'50816IN0200013',\n",
       "   u'plan_id_type': u'HIOS-PLAN-ID'},\n",
       "  {u'network_tier': u'PHP-SELECT',\n",
       "   u'plan_id': u'50816IN0200016',\n",
       "   u'plan_id_type': u'HIOS-PLAN-ID'},\n",
       "  {u'network_tier': u'PHP-SELECT',\n",
       "   u'plan_id': u'50816IN0200022',\n",
       "   u'plan_id_type': u'HIOS-PLAN-ID'},\n",
       "  {u'network_tier': u'PHP-SELECT',\n",
       "   u'plan_id': u'50816IN0200025',\n",
       "   u'plan_id_type': u'HIOS-PLAN-ID'},\n",
       "  {u'network_tier': u'PHP-SELECT',\n",
       "   u'plan_id': u'50816IN0230002',\n",
       "   u'plan_id_type': u'HIOS-PLAN-ID'},\n",
       "  {u'network_tier': u'PHP-SELECT',\n",
       "   u'plan_id': u'50816IN0230004',\n",
       "   u'plan_id_type': u'HIOS-PLAN-ID'},\n",
       "  {u'network_tier': u'PHP-SELECT',\n",
       "   u'plan_id': u'50816IN0230006',\n",
       "   u'plan_id_type': u'HIOS-PLAN-ID'},\n",
       "  {u'network_tier': u'PHP-SELECT',\n",
       "   u'plan_id': u'50816IN0230008',\n",
       "   u'plan_id_type': u'HIOS-PLAN-ID'},\n",
       "  {u'network_tier': u'PHP-SELECT',\n",
       "   u'plan_id': u'50816IN0230010',\n",
       "   u'plan_id_type': u'HIOS-PLAN-ID'},\n",
       "  {u'network_tier': u'PHP-SELECT',\n",
       "   u'plan_id': u'50816IN0230012',\n",
       "   u'plan_id_type': u'HIOS-PLAN-ID'}],\n",
       " u'speciality': [u'DERMATOLOGY'],\n",
       " u'type': u'INDIVIDUAL'}"
      ]
     },
     "execution_count": 15,
     "metadata": {},
     "output_type": "execute_result"
    }
   ],
   "source": [
    "prov_col.find_one({'facility_name':{'$exists':True}})"
   ]
  },
  {
   "cell_type": "code",
   "execution_count": 42,
   "metadata": {
    "collapsed": false,
    "scrolled": false
   },
   "outputs": [
    {
     "name": "stdout",
     "output_type": "stream",
     "text": [
      "50816IN0230008 630 {u'count': 10, u'location': 10, u'key': u'CARDIOVASCULAR DISEASE|CHINESE|'}\n",
      "50816IN0200025 630 {u'count': 5, u'location': 5, u'key': u'HEMATOLOGY/ONCOLOGY| TELUGU|'}\n"
     ]
    }
   ],
   "source": [
    "for p in getProviderStateForPlans(prov_col, ['50816IN0200025','50816IN0230008']):\n",
    "    print p['_id'], len(p['plan_states']), p['plan_states'][180]"
   ]
  },
  {
   "cell_type": "code",
   "execution_count": 49,
   "metadata": {
    "collapsed": false
   },
   "outputs": [
    {
     "name": "stdout",
     "output_type": "stream",
     "text": [
      "3286\n",
      "987\n"
     ]
    }
   ],
   "source": [
    "for p in getProviderListForPlans(prov_col, ['23307AZ0400014','97667AZ0110007']):\n",
    "    print len(p['npi'])"
   ]
  },
  {
   "cell_type": "code",
   "execution_count": 48,
   "metadata": {
    "collapsed": false
   },
   "outputs": [
    {
     "data": {
      "text/plain": [
       "106230"
      ]
     },
     "execution_count": 48,
     "metadata": {},
     "output_type": "execute_result"
    }
   ],
   "source": [
    "all_npi = prov_col.find({'plans.plan_id':{'$in':az_plan}}).distinct('npi')\n",
    "len(all_npi)"
   ]
  }
 ],
 "metadata": {
  "kernelspec": {
   "display_name": "Python 2",
   "language": "python",
   "name": "python2"
  },
  "language_info": {
   "codemirror_mode": {
    "name": "ipython",
    "version": 2
   },
   "file_extension": ".py",
   "mimetype": "text/x-python",
   "name": "python",
   "nbconvert_exporter": "python",
   "pygments_lexer": "ipython2",
   "version": "2.7.9"
  }
 },
 "nbformat": 4,
 "nbformat_minor": 0
}
