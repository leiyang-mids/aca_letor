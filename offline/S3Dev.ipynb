{
 "cells": [
  {
   "cell_type": "code",
   "execution_count": 1,
   "metadata": {
    "collapsed": false
   },
   "outputs": [],
   "source": [
    "import boto3\n",
    "s3 = boto3.resource('s3', 'us-east-1')\n",
    "bucket = s3.Bucket('w210.data')\n"
   ]
  },
  {
   "cell_type": "code",
   "execution_count": 31,
   "metadata": {
    "collapsed": false
   },
   "outputs": [],
   "source": [
    "for obj in bucket.objects.all():\n",
    "    if obj.key == 'feature/SD_18_26728.pickle':\n",
    "        test = obj\n",
    "        obj.Acl().put(ACL='public-read')"
   ]
  },
  {
   "cell_type": "code",
   "execution_count": 29,
   "metadata": {
    "collapsed": false
   },
   "outputs": [],
   "source": [
    "# abc=test.Object()\n",
    "?abc.Acl"
   ]
  },
  {
   "cell_type": "code",
   "execution_count": 12,
   "metadata": {
    "collapsed": false
   },
   "outputs": [
    {
     "name": "stdout",
     "output_type": "stream",
     "text": [
      "delete done!\n"
     ]
    }
   ],
   "source": [
    "for obj in bucket.objects.filter():\n",
    "    if obj.key == 'online/runtime_data_OR.pickle':\n",
    "        obj.delete()\n",
    "        print 'delete done!'"
   ]
  },
  {
   "cell_type": "code",
   "execution_count": 53,
   "metadata": {
    "collapsed": false
   },
   "outputs": [
    {
     "name": "stdout",
     "output_type": "stream",
     "text": [
      "feature/UT_74_19243.pickle\n"
     ]
    }
   ],
   "source": [
    "for o in bucket.objects.all():\n",
    "    if o.key.startswith('feature/UT'):\n",
    "        print o.key\n",
    "        break\n",
    "else:\n",
    "    print 'no found'"
   ]
  },
  {
   "cell_type": "code",
   "execution_count": 58,
   "metadata": {
    "collapsed": true
   },
   "outputs": [],
   "source": [
    "bucket.upload_file('UT_74_19243.pickle', 'feature/UT_74_19243.pickle')"
   ]
  },
  {
   "cell_type": "code",
   "execution_count": 48,
   "metadata": {
    "collapsed": false
   },
   "outputs": [],
   "source": [
    "bucket.download_file('online/runtime_data_OR.pickle', 'down_test2')"
   ]
  },
  {
   "cell_type": "code",
   "execution_count": 55,
   "metadata": {
    "collapsed": false
   },
   "outputs": [],
   "source": [
    "import pickle\n",
    "with open('UT_74_19243.pickle') as f:\n",
    "    feature, plans = pickle.load(f)"
   ]
  },
  {
   "cell_type": "code",
   "execution_count": 56,
   "metadata": {
    "collapsed": false
   },
   "outputs": [
    {
     "name": "stdout",
     "output_type": "stream",
     "text": [
      "Once deleted, variables cannot be recovered. Proceed (y/[n])? y\n"
     ]
    }
   ],
   "source": [
    "%reset"
   ]
  },
  {
   "cell_type": "code",
   "execution_count": 60,
   "metadata": {
    "collapsed": false
   },
   "outputs": [],
   "source": [
    "import pickle\n",
    "with open('training/UT_2.pickle') as f:\n",
    "    plans, rank = pickle.load(f)"
   ]
  },
  {
   "cell_type": "code",
   "execution_count": 2,
   "metadata": {
    "collapsed": false
   },
   "outputs": [
    {
     "name": "stdout",
     "output_type": "stream",
     "text": [
      "using aws Mongo, total drug: 46206, total plan: 6035, total provider: 8799098\n"
     ]
    }
   ],
   "source": [
    "from pymongo import MongoClient\n",
    "local = False\n",
    "if local:\n",
    "    client = MongoClient('fc8iasm01', 27017)\n",
    "    plan_col = client.aca.plan\n",
    "    drug_col = client.aca.drug\n",
    "else:\n",
    "    client = MongoClient('ec2-52-53-230-141.us-west-1.compute.amazonaws.com', 27017)\n",
    "    plan_col = client.plans.plans\n",
    "    drug_col = client.formularies.drugs\n",
    "    prov_col = client.providers.providers\n",
    "    faci_col = client.providers.facilities\n",
    "\n",
    "all_plan = drug_col.distinct('plans.plan_id')\n",
    "all_drug = drug_col.distinct('rxnorm_id')\n",
    "\n",
    "print 'using %s Mongo, total drug: %d, total plan: %d, total provider: %d' %(\n",
    "     'local' if local else 'aws', len(all_drug), len(all_plan), prov_col.count())"
   ]
  },
  {
   "cell_type": "code",
   "execution_count": 3,
   "metadata": {
    "collapsed": false
   },
   "outputs": [
    {
     "name": "stdout",
     "output_type": "stream",
     "text": [
      "find plan from 43 states: AK, AL, AR, AZ, CO, DE, FL, GA, HI, IA, IL, IN, KS, KY, LA, MA, ME, MI, MN, MO, MS, MT, NC, ND, NE, NH, NJ, NM, NV, OH, OK, OR, PA, SC, SD, TN, TX, UT, VA, WA, WI, WV, WY\n"
     ]
    }
   ],
   "source": [
    "import numpy as np\n",
    "state_ids = np.unique([i[5:7] for i in all_plan])\n",
    "print 'find plan from %d states: %s' %(len(state_ids), ', '.join(state_ids))"
   ]
  },
  {
   "cell_type": "code",
   "execution_count": 17,
   "metadata": {
    "collapsed": true
   },
   "outputs": [],
   "source": [
    "state_plan = [i for i in all_plan if 'SD' in i]"
   ]
  },
  {
   "cell_type": "code",
   "execution_count": 10,
   "metadata": {
    "collapsed": false
   },
   "outputs": [
    {
     "data": {
      "text/plain": [
       "array(['Alzheimer', 'Glaucoma', 'Hypertension', 'Obesophobia', 'diabetes'], \n",
       "      dtype='|S12')"
      ]
     },
     "execution_count": 10,
     "metadata": {},
     "output_type": "execute_result"
    }
   ],
   "source": [
    "a=['Glaucoma', 'diabetes Obesophobia', 'Obesophobia diabetes Alzheimer', 'Glaucoma diabetes Alzheimer Hypertension', 'Glaucoma Alzheimer diabetes Obesophobia Hypertension']\n",
    "np.unique(' '.join(a).split())"
   ]
  },
  {
   "cell_type": "code",
   "execution_count": 5,
   "metadata": {
    "collapsed": false
   },
   "outputs": [],
   "source": [
    "import pickle\n",
    "with open('plan_ids.pickle', 'w') as f:\n",
    "    pickle.dump([all_plan], f)"
   ]
  },
  {
   "cell_type": "code",
   "execution_count": 11,
   "metadata": {
    "collapsed": true
   },
   "outputs": [],
   "source": [
    "sim_health = np.array(['Alzheimer', 'Glaucoma', 'Hypertension', 'Obesophobia', 'diabetes'])"
   ]
  },
  {
   "cell_type": "code",
   "execution_count": 31,
   "metadata": {
    "collapsed": false
   },
   "outputs": [
    {
     "data": {
      "text/plain": [
       "3"
      ]
     },
     "execution_count": 31,
     "metadata": {},
     "output_type": "execute_result"
    }
   ],
   "source": [
    "np.random.randint(low=1,high=5)"
   ]
  },
  {
   "cell_type": "code",
   "execution_count": 40,
   "metadata": {
    "collapsed": false
   },
   "outputs": [],
   "source": [
    "def simulate_clicks(n_query = 8, n_click_max = 8):\n",
    "    '''\n",
    "    '''\n",
    "\n",
    "    with open('plan_ids.pickle') as f:\n",
    "        all_plan = pickle.load(f)\n",
    "\n",
    "    # sim health\n",
    "    sim_health = np.array(['Alzheimer', 'Glaucoma', 'Hypertension', 'Obesophobia', 'diabetes'])\n",
    "\n",
    "    # get states\n",
    "    state_ids = np.unique([i[5:7] for i in all_plan[0]])\n",
    "    for state in state_ids:\n",
    "        state_plan = np.array([i for i in all_plan[0] if state in i])\n",
    "        n_plan = len(state_plan)\n",
    "#         print 'state %s has %d plans' %(state, n_plan)\n",
    "        # simulate query\n",
    "        sim_data = []\n",
    "        for i in range(n_query):\n",
    "            health = sim_health[np.random.permutation(sim_health.size)[0:i+1]]\n",
    "            sim_rank = state_plan[np.random.permutation(n_plan)]\n",
    "            sim_click = state_plan[np.random.permutation(n_plan)][0:np.random.randint(low=1, high=min(n_plan,n_click_max))]\n",
    "            sim_data.append((state, health, sim_rank, sim_click))\n",
    "\n",
    "    rtn_type = [('state','S2'), ('query','S512'), ('ranks',list), ('clicks',list)]\n",
    "    return np.array(sim_data, dtype=rtn_type)"
   ]
  },
  {
   "cell_type": "code",
   "execution_count": 41,
   "metadata": {
    "collapsed": false
   },
   "outputs": [
    {
     "name": "stdout",
     "output_type": "stream",
     "text": [
      "state AK has 20 plans\n",
      "state AL has 30 plans\n",
      "state AR has 62 plans\n",
      "state AZ has 178 plans\n",
      "state CO has 7 plans\n",
      "state DE has 44 plans\n",
      "state FL has 504 plans\n",
      "state GA has 243 plans\n",
      "state HI has 39 plans\n",
      "state IA has 127 plans\n",
      "state IL has 433 plans\n",
      "state IN has 89 plans\n",
      "state KS has 54 plans\n",
      "state KY has 20 plans\n",
      "state LA has 81 plans\n",
      "state MA has 8 plans\n",
      "state ME has 88 plans\n",
      "state MI has 202 plans\n",
      "state MN has 10 plans\n",
      "state MO has 144 plans\n",
      "state MS has 35 plans\n",
      "state MT has 107 plans\n",
      "state NC has 109 plans\n",
      "state ND has 27 plans\n",
      "state NE has 64 plans\n",
      "state NH has 73 plans\n",
      "state NJ has 115 plans\n",
      "state NM has 25 plans\n",
      "state NV has 35 plans\n",
      "state OH has 335 plans\n",
      "state OK has 214 plans\n",
      "state OR has 190 plans\n",
      "state PA has 270 plans\n",
      "state SC has 149 plans\n",
      "state SD has 43 plans\n",
      "state TN has 139 plans\n",
      "state TX has 659 plans\n",
      "state UT has 74 plans\n",
      "state VA has 269 plans\n",
      "state WA has 17 plans\n",
      "state WI has 563 plans\n",
      "state WV has 32 plans\n",
      "state WY has 108 plans\n"
     ]
    },
    {
     "ename": "ValueError",
     "evalue": "cannot set an array element with a sequence",
     "output_type": "error",
     "traceback": [
      "\u001b[0;31m---------------------------------------------------------------------------\u001b[0m",
      "\u001b[0;31mValueError\u001b[0m                                Traceback (most recent call last)",
      "\u001b[0;32m<ipython-input-41-381476756afe>\u001b[0m in \u001b[0;36m<module>\u001b[0;34m()\u001b[0m\n\u001b[0;32m----> 1\u001b[0;31m \u001b[0msdata\u001b[0m \u001b[0;34m=\u001b[0m \u001b[0msimulate_clicks\u001b[0m\u001b[0;34m(\u001b[0m\u001b[0;36m2\u001b[0m\u001b[0;34m,\u001b[0m\u001b[0;36m3\u001b[0m\u001b[0;34m)\u001b[0m\u001b[0;34m\u001b[0m\u001b[0m\n\u001b[0m\u001b[1;32m      2\u001b[0m \u001b[0;31m# with open('plan_ids.pickle') as f:\u001b[0m\u001b[0;34m\u001b[0m\u001b[0;34m\u001b[0m\u001b[0m\n\u001b[1;32m      3\u001b[0m \u001b[0;31m#     all_plan = pickle.load(f)\u001b[0m\u001b[0;34m\u001b[0m\u001b[0;34m\u001b[0m\u001b[0m\n\u001b[1;32m      4\u001b[0m \u001b[0;31m# all_plan\u001b[0m\u001b[0;34m\u001b[0m\u001b[0;34m\u001b[0m\u001b[0m\n",
      "\u001b[0;32m<ipython-input-40-519047582798>\u001b[0m in \u001b[0;36msimulate_clicks\u001b[0;34m(n_query, n_click_max)\u001b[0m\n\u001b[1;32m     24\u001b[0m \u001b[0;34m\u001b[0m\u001b[0m\n\u001b[1;32m     25\u001b[0m     \u001b[0mrtn_type\u001b[0m \u001b[0;34m=\u001b[0m \u001b[0;34m[\u001b[0m\u001b[0;34m(\u001b[0m\u001b[0;34m'state'\u001b[0m\u001b[0;34m,\u001b[0m\u001b[0;34m'S2'\u001b[0m\u001b[0;34m)\u001b[0m\u001b[0;34m,\u001b[0m \u001b[0;34m(\u001b[0m\u001b[0;34m'query'\u001b[0m\u001b[0;34m,\u001b[0m\u001b[0;34m'S512'\u001b[0m\u001b[0;34m)\u001b[0m\u001b[0;34m,\u001b[0m \u001b[0;34m(\u001b[0m\u001b[0;34m'ranks'\u001b[0m\u001b[0;34m,\u001b[0m\u001b[0mlist\u001b[0m\u001b[0;34m)\u001b[0m\u001b[0;34m,\u001b[0m \u001b[0;34m(\u001b[0m\u001b[0;34m'clicks'\u001b[0m\u001b[0;34m,\u001b[0m\u001b[0mlist\u001b[0m\u001b[0;34m)\u001b[0m\u001b[0;34m]\u001b[0m\u001b[0;34m\u001b[0m\u001b[0m\n\u001b[0;32m---> 26\u001b[0;31m     \u001b[0;32mreturn\u001b[0m \u001b[0mnp\u001b[0m\u001b[0;34m.\u001b[0m\u001b[0marray\u001b[0m\u001b[0;34m(\u001b[0m\u001b[0msim_data\u001b[0m\u001b[0;34m,\u001b[0m \u001b[0mdtype\u001b[0m\u001b[0;34m=\u001b[0m\u001b[0mrtn_type\u001b[0m\u001b[0;34m)\u001b[0m\u001b[0;34m\u001b[0m\u001b[0m\n\u001b[0m",
      "\u001b[0;31mValueError\u001b[0m: cannot set an array element with a sequence"
     ]
    }
   ],
   "source": [
    "sdata = simulate_clicks(2,3)\n",
    "# with open('plan_ids.pickle') as f:\n",
    "#     all_plan = pickle.load(f)\n",
    "# all_plan"
   ]
  }
 ],
 "metadata": {
  "kernelspec": {
   "display_name": "Python 2",
   "language": "python",
   "name": "python2"
  },
  "language_info": {
   "codemirror_mode": {
    "name": "ipython",
    "version": 2
   },
   "file_extension": ".py",
   "mimetype": "text/x-python",
   "name": "python",
   "nbconvert_exporter": "python",
   "pygments_lexer": "ipython2",
   "version": "2.7.9"
  }
 },
 "nbformat": 4,
 "nbformat_minor": 0
}
